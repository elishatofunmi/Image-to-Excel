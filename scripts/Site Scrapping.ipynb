{
 "cells": [
  {
   "cell_type": "code",
   "execution_count": 1,
   "metadata": {},
   "outputs": [
    {
     "name": "stdout",
     "output_type": "stream",
     "text": [
      "<title>Grubhub food delivery is not available in your country</title>\n"
     ]
    }
   ],
   "source": [
    "from urllib.request import urlopen\n",
    "from bs4 import BeautifulSoup\n",
    "\n",
    "\n",
    "url = \"https://www.grubhub.com/restaurant/cast-iron-waffles-9604-longstone-ln-charlotte/1444707\"\n",
    "html = urlopen(url)\n",
    "\n",
    "soup = BeautifulSoup(html, 'lxml')\n",
    "type(soup)\n",
    "\n",
    "# Get the title\n",
    "title = soup.title\n",
    "print(title)"
   ]
  },
  {
   "cell_type": "code",
   "execution_count": 2,
   "metadata": {},
   "outputs": [
    {
     "data": {
      "text/plain": [
       "'Grubhub food delivery is not available in your countrySorry about thatGrubhub food delivery is not available in your country\\n'"
      ]
     },
     "execution_count": 2,
     "metadata": {},
     "output_type": "execute_result"
    }
   ],
   "source": [
    "soup.getText()"
   ]
  },
  {
   "cell_type": "code",
   "execution_count": 3,
   "metadata": {},
   "outputs": [
    {
     "name": "stdout",
     "output_type": "stream",
     "text": [
      "Help on function urlopen in module urllib.request:\n",
      "\n",
      "urlopen(url, data=None, timeout=<object object at 0x7feb6aa07e60>, *, cafile=None, capath=None, cadefault=False, context=None)\n",
      "    Open the URL url, which can be either a string or a Request object.\n",
      "    \n",
      "    *data* must be an object specifying additional data to be sent to\n",
      "    the server, or None if no such data is needed.  See Request for\n",
      "    details.\n",
      "    \n",
      "    urllib.request module uses HTTP/1.1 and includes a \"Connection:close\"\n",
      "    header in its HTTP requests.\n",
      "    \n",
      "    The optional *timeout* parameter specifies a timeout in seconds for\n",
      "    blocking operations like the connection attempt (if not specified, the\n",
      "    global default timeout setting will be used). This only works for HTTP,\n",
      "    HTTPS and FTP connections.\n",
      "    \n",
      "    If *context* is specified, it must be a ssl.SSLContext instance describing\n",
      "    the various SSL options. See HTTPSConnection for more details.\n",
      "    \n",
      "    The optional *cafile* and *capath* parameters specify a set of trusted CA\n",
      "    certificates for HTTPS requests. cafile should point to a single file\n",
      "    containing a bundle of CA certificates, whereas capath should point to a\n",
      "    directory of hashed certificate files. More information can be found in\n",
      "    ssl.SSLContext.load_verify_locations().\n",
      "    \n",
      "    The *cadefault* parameter is ignored.\n",
      "    \n",
      "    This function always returns an object which can work as a context\n",
      "    manager and has methods such as\n",
      "    \n",
      "    * geturl() - return the URL of the resource retrieved, commonly used to\n",
      "      determine if a redirect was followed\n",
      "    \n",
      "    * info() - return the meta-information of the page, such as headers, in the\n",
      "      form of an email.message_from_string() instance (see Quick Reference to\n",
      "      HTTP Headers)\n",
      "    \n",
      "    * getcode() - return the HTTP status code of the response.  Raises URLError\n",
      "      on errors.\n",
      "    \n",
      "    For HTTP and HTTPS URLs, this function returns a http.client.HTTPResponse\n",
      "    object slightly modified. In addition to the three new methods above, the\n",
      "    msg attribute contains the same information as the reason attribute ---\n",
      "    the reason phrase returned by the server --- instead of the response\n",
      "    headers as it is specified in the documentation for HTTPResponse.\n",
      "    \n",
      "    For FTP, file, and data URLs and requests explicitly handled by legacy\n",
      "    URLopener and FancyURLopener classes, this function returns a\n",
      "    urllib.response.addinfourl object.\n",
      "    \n",
      "    Note that None may be returned if no handler handles the request (though\n",
      "    the default installed global OpenerDirector uses UnknownHandler to ensure\n",
      "    this never happens).\n",
      "    \n",
      "    In addition, if proxy settings are detected (for example, when a *_proxy\n",
      "    environment variable like http_proxy is set), ProxyHandler is default\n",
      "    installed and makes sure the requests are handled through the proxy.\n",
      "\n"
     ]
    }
   ],
   "source": [
    "help(urlopen)"
   ]
  },
  {
   "cell_type": "code",
   "execution_count": null,
   "metadata": {},
   "outputs": [],
   "source": []
  }
 ],
 "metadata": {
  "kernelspec": {
   "display_name": "Python 3",
   "language": "python",
   "name": "python3"
  },
  "language_info": {
   "codemirror_mode": {
    "name": "ipython",
    "version": 3
   },
   "file_extension": ".py",
   "mimetype": "text/x-python",
   "name": "python",
   "nbconvert_exporter": "python",
   "pygments_lexer": "ipython3",
   "version": "3.8.2"
  }
 },
 "nbformat": 4,
 "nbformat_minor": 4
}
