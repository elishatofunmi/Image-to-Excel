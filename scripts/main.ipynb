{
 "cells": [
  {
   "cell_type": "code",
   "execution_count": 1,
   "metadata": {},
   "outputs": [],
   "source": [
    "import cv2\n",
    "import pytesseract\n",
    "import numpy as np\n",
    "import os, sys\n"
   ]
  },
  {
   "cell_type": "code",
   "execution_count": 2,
   "metadata": {},
   "outputs": [
    {
     "data": {
      "text/plain": [
       "'/home/odemakinde/Desktop/Image to Excel/Image-to-Excel/scripts'"
      ]
     },
     "execution_count": 2,
     "metadata": {},
     "output_type": "execute_result"
    }
   ],
   "source": [
    "os.getcwd()"
   ]
  },
  {
   "cell_type": "code",
   "execution_count": 3,
   "metadata": {},
   "outputs": [],
   "source": [
    "os.chdir('/home/odemakinde/Desktop/Image to Excel/Image-to-Excel/test images/')"
   ]
  },
  {
   "cell_type": "markdown",
   "metadata": {},
   "source": [
    "# menu analysis"
   ]
  },
  {
   "cell_type": "code",
   "execution_count": 152,
   "metadata": {},
   "outputs": [],
   "source": [
    "img = cv2.imread('menu.jpg')\n",
    "gray = cv2.cvtColor(img, cv2.COLOR_RGB2GRAY)\n",
    "gray, img_bin = cv2.threshold(gray,128,255,cv2.THRESH_BINARY | cv2.THRESH_OTSU)\n",
    "gray = cv2.bitwise_not(img_bin)\n",
    "#cv2.imshow('image', gray)\n",
    "#cv2.waitKey(0)\n",
    "#cv2.destroyAllWindows()"
   ]
  },
  {
   "cell_type": "code",
   "execution_count": 153,
   "metadata": {},
   "outputs": [
    {
     "name": "stdout",
     "output_type": "stream",
     "text": [
      "OUTPUT:   \n",
      " \n",
      "\n",
      "0 eu\n",
      "\n",
      "mitten\n",
      "Chicken / Dolle\n",
      "\n",
      "8- WHOLE ROTISSERIE CHICKEN / Pollo a la Brasa (Entero)\n",
      "me Prasat slate eto eee Rome)\n",
      "alee ead Pease cues eRe Om ane mmI CCE med\n",
      "BANDEJA de POLLO, 1/4 de Pollo, Ensalada, Consomé, Papas Fritas y Arroz\n",
      "11- MIXED CHICKEN with RICE / Salad and Sweet Plantains\n",
      "ARROZ con POLLO, Ensalada y Maduro\n",
      "Ae a ta el) ie aes)\n",
      "CONSOME de MENUDENCIAS, Arroz y Ensalada\n",
      "were Ns d fo) TAM et eo ec Ry\n",
      "ee eRe ee we era eo SnICT Se RM Cle ce)\n",
      "eee) [ante ea pate) Be ee etme ce ere |\n",
      "PECHUGA de POLLO al LIMON, Arroz, Papas Fritas y Ensalada\n",
      "eboSe=o0) [estore ie (ere enna ones cl\n",
      "PERNIL de POLLO, Amoz, Papas Fritas y Ensalada\n",
      "SCS Te edie bE te ec eC}\n",
      "PECHUGA de POLLO EMPANIZADO, Arroz, Frijoles, Ensalada y Maduro\n",
      "17- BONELESS CHICKEN BREAST in MUSHROOM SAUCE / Rice, Salad & French Fries\n",
      "Poteet Wola ce) Ree ey Ry Caran ce Artoz, Ensalada y Papas Fritas\n",
      "SES OC Bia e-em acm\n",
      "PECHUGA HAWAIANA, Arroz Blanco y Papas Fritas\n",
      "MR aR Aa ae ei ge Pee ene Um UM Rea eee]\n",
      "\n",
      "FILETE de PECHUGA APANADA dei CHEF, Pechuga Apanada de Pollo rellena,\n",
      "de Jamén y Queso Mozzarella\n",
      "\n",
      "  \n",
      "\f",
      "\n"
     ]
    }
   ],
   "source": [
    "kernel = np.ones((2, 1), np.uint8)\n",
    "img = cv2.erode(gray, kernel, iterations=1)\n",
    "img = cv2.dilate(img, kernel, iterations=1)\n",
    "out_below = pytesseract.image_to_string(img)\n",
    "print(\"OUTPUT:\", out_below)"
   ]
  },
  {
   "cell_type": "code",
   "execution_count": null,
   "metadata": {},
   "outputs": [],
   "source": []
  },
  {
   "cell_type": "code",
   "execution_count": null,
   "metadata": {},
   "outputs": [],
   "source": []
  },
  {
   "cell_type": "code",
   "execution_count": null,
   "metadata": {},
   "outputs": [],
   "source": []
  },
  {
   "cell_type": "code",
   "execution_count": null,
   "metadata": {},
   "outputs": [],
   "source": []
  },
  {
   "cell_type": "markdown",
   "metadata": {},
   "source": [
    "# menu 2 analysis"
   ]
  },
  {
   "cell_type": "code",
   "execution_count": 148,
   "metadata": {},
   "outputs": [],
   "source": [
    "img = cv2.imread('menu2.jpg')\n",
    "gray = cv2.cvtColor(img, cv2.COLOR_RGB2GRAY)\n",
    "gray, img_bin = cv2.threshold(gray,128,255,cv2.THRESH_BINARY | cv2.THRESH_OTSU)\n",
    "gray = cv2.bitwise_not(img_bin)\n",
    "#cv2.imshow('image', gray)\n",
    "#cv2.waitKey(0)\n",
    "#cv2.destroyAllWindows()"
   ]
  },
  {
   "cell_type": "code",
   "execution_count": 149,
   "metadata": {},
   "outputs": [
    {
     "name": "stdout",
     "output_type": "stream",
     "text": [
      "OUTPUT:   \n",
      " \n",
      "\n",
      "0 eu\n",
      "\n",
      "mitten\n",
      "Chicken / Dolle\n",
      "\n",
      "8- WHOLE ROTISSERIE CHICKEN / Pollo a la Brasa (Entero)\n",
      "me Prasat slate eto eee Rome)\n",
      "alee ead Pease cues eRe Om ane mmI CCE med\n",
      "BANDEJA de POLLO, 1/4 de Pollo, Ensalada, Consomé, Papas Fritas y Arroz\n",
      "11- MIXED CHICKEN with RICE / Salad and Sweet Plantains\n",
      "ARROZ con POLLO, Ensalada y Maduro\n",
      "Ae a ta el) ie aes)\n",
      "CONSOME de MENUDENCIAS, Arroz y Ensalada\n",
      "were Ns d fo) TAM et eo ec Ry\n",
      "ee eRe ee we era eo SnICT Se RM Cle ce)\n",
      "eee) [ante ea pate) Be ee etme ce ere |\n",
      "PECHUGA de POLLO al LIMON, Arroz, Papas Fritas y Ensalada\n",
      "eboSe=o0) [estore ie (ere enna ones cl\n",
      "PERNIL de POLLO, Amoz, Papas Fritas y Ensalada\n",
      "SCS Te edie bE te ec eC}\n",
      "PECHUGA de POLLO EMPANIZADO, Arroz, Frijoles, Ensalada y Maduro\n",
      "17- BONELESS CHICKEN BREAST in MUSHROOM SAUCE / Rice, Salad & French Fries\n",
      "Poteet Wola ce) Ree ey Ry Caran ce Artoz, Ensalada y Papas Fritas\n",
      "SES OC Bia e-em acm\n",
      "PECHUGA HAWAIANA, Arroz Blanco y Papas Fritas\n",
      "MR aR Aa ae ei ge Pee ene Um UM Rea eee]\n",
      "\n",
      "FILETE de PECHUGA APANADA dei CHEF, Pechuga Apanada de Pollo rellena,\n",
      "de Jamén y Queso Mozzarella\n",
      "\n",
      "  \n",
      "\f",
      "\n"
     ]
    }
   ],
   "source": [
    "kernel = np.ones((2, 1), np.uint8)\n",
    "img = cv2.erode(gray, kernel, iterations=1)\n",
    "img = cv2.dilate(img, kernel, iterations=1)\n",
    "out_below = pytesseract.image_to_string(img)\n",
    "print(\"OUTPUT:\", out_below)"
   ]
  },
  {
   "cell_type": "code",
   "execution_count": 150,
   "metadata": {},
   "outputs": [
    {
     "data": {
      "text/plain": [
       "{}"
      ]
     },
     "execution_count": 150,
     "metadata": {},
     "output_type": "execute_result"
    }
   ],
   "source": [
    "splitByNewLines = out_below.split('\\n')\n",
    "\n",
    "KeyCategory = {}\n",
    "count = 0\n",
    "for k in splitByNewLines:\n",
    "    for m in k:\n",
    "        l = 0            \n",
    "        if m.isupper():\n",
    "            KeyCategory[k] = count\n",
    "            count += 1\n",
    "        else:\n",
    "            count += 1\n",
    "KeyCategory"
   ]
  },
  {
   "cell_type": "code",
   "execution_count": 33,
   "metadata": {},
   "outputs": [
    {
     "data": {
      "text/plain": [
       "[' ', '', '*FRESH GUACAMOLE *CEVICHE TROPICAL', '', '“¥APPETIZERS S@']"
      ]
     },
     "execution_count": 33,
     "metadata": {},
     "output_type": "execute_result"
    }
   ],
   "source": [
    "splitByNewLines[:5]"
   ]
  },
  {
   "cell_type": "code",
   "execution_count": 22,
   "metadata": {},
   "outputs": [
    {
     "data": {
      "text/plain": [
       "'*FRESH GUACAMOLE *CEVICHE TROPICAL'"
      ]
     },
     "execution_count": 22,
     "metadata": {},
     "output_type": "execute_result"
    }
   ],
   "source": [
    "list(KeyCategory.keys())[0]"
   ]
  },
  {
   "cell_type": "code",
   "execution_count": 36,
   "metadata": {},
   "outputs": [],
   "source": [
    "def createDummyCategory(Categories, gauge):\n",
    "    DummyCategory = []\n",
    "    start, stop = 0, 0\n",
    "    try:\n",
    "        for k in Categories.values():\n",
    "            start = k\n",
    "            mm = list(KeyCategory.values()).index(k)+1\n",
    "            stop = list(KeyCategory.values())[mm]\n",
    "            for f in range(start, stop):\n",
    "                DummyCategory.append(list(KeyCategory.keys())[mm-1])\n",
    "    except IndexError:\n",
    "        start = k\n",
    "        mm = list(KeyCategory.values()).index(k)+1\n",
    "        stop = gauge\n",
    "        for f in range(start, stop):\n",
    "            DummyCategory.append(list(KeyCategory.keys())[mm-1])\n",
    "        \n",
    "    return DummyCategory\n",
    "gauge = len(splitByNewLines)\n",
    "dummyCategory = createDummyCategory(KeyCategory, gauge)"
   ]
  },
  {
   "cell_type": "code",
   "execution_count": 39,
   "metadata": {},
   "outputs": [],
   "source": [
    "def CutData(data, data_keys):\n",
    "    first = list(data_keys.keys())[0]\n",
    "    index= data.index(first)\n",
    "    \n",
    "    return data[index:]\n",
    "\n",
    "InputData = CutData(splitByNewLines, KeyCategory)"
   ]
  },
  {
   "cell_type": "code",
   "execution_count": 128,
   "metadata": {},
   "outputs": [
    {
     "data": {
      "text/plain": [
       "['*FRESH GUACAMOLE *CEVICHE TROPICAL',\n",
       " '',\n",
       " '“¥APPETIZERS S@',\n",
       " '',\n",
       " '__ © Ceviche Tropical _ Cheese Sticks',\n",
       " 'TN LOIS Cele COAL eS OR LU Six cheese sticks, served with marinara dipping sauce 5.50',\n",
       " 'pico de gallo and olive oil 8.00 fe Tree',\n",
       " 'amarones Gratinados',\n",
       " '_Fresh Guacamole Grilled jumbo shrimp chopped with onions, covered',\n",
       " 'Made right at your table..!! Mouthwatering fresh with melted Mexican cheese 7.99',\n",
       " 'chunks of avocado, diced onions, tomatoes, cilantro ;',\n",
       " 'Teo SOA ari Pollo Gratinado',\n",
       " 'p rilled chicken chopped with onions covered',\n",
       " 'Queso Fundido with melted Mexican cheese 6.49',\n",
       " 'Chorizo (Mexican sausage) with melted cheese 5.99 NE P|',\n",
       " 'itas de rollo',\n",
       " 'Tossed Salad Seven chicken wings bone in, served with celery',\n",
       " 'Lettuce, tomatoes, onions, bell pepper, cucumber, sticks and dipping sauce 6.99',\n",
       " 'mushroom and cheese. Served with your choice of Flavors:',\n",
       " 'dressing 3.75 Original, Teriyaki, BBO, Sweet & Sour, Mango Habanero',\n",
       " '',\n",
       " 'NACHOS DIPS',\n",
       " '',\n",
       " 'Cheese 3.99 Beef 5.00',\n",
       " '',\n",
       " 'Cheese Nachos aaele Bean 4.25 Spinach 4.00',\n",
       " 'Bean and Cheese 4.75',\n",
       " 'Chicken and Cheese omelt S eo P S',\n",
       " 'Beef and Cheese 5.50 U',\n",
       " 'Beef, Bean and Cheese 5.85',\n",
       " 'Chicken, Bean and Cheese 5.85 oa Soup 9.25',\n",
       " 'ile caae sey 6.25',\n",
       " 'Nachos BBQ Calle cia OCCU SIA Ke10/¢(c¢ Rene Col',\n",
       " 'Grilled chicken, sautéed with our special BBQ sauce, rice, avocado and pico de gallo',\n",
       " '',\n",
       " 'topped with onions and cilantro 8.99',\n",
       " '',\n",
       " 'Nachos edu eae',\n",
       " 'Beef, beans, lettuce, sour cream,',\n",
       " 'tomatoes and cheese 7.75',\n",
       " '',\n",
       " '& San Jose Nachos',\n",
       " 'A mix of chicken, chorizo and applewood bacon, topped',\n",
       " 'with refried beans, pico de gallo, sour cream, and pickled',\n",
       " 'jalapefios. 8.50',\n",
       " '',\n",
       " ' ',\n",
       " '',\n",
       " '*CHICKEN SOUP',\n",
       " '',\n",
       " 'BOM Dr ee ROCCHI RC MCRL CCC em CSAC LCO ASS IMaSS RELC Sy',\n",
       " 'Tee ACR aa em ec Ae CRC CC CMC a DCT Cm UT Ree)',\n",
       " 'SCC ee Be CUM LEIGH CILMI UP MAL CUER OMT Mee TMU Cr| Coney',\n",
       " 'that might cause an allergic reaction.',\n",
       " '',\n",
       " 'VR RR RR RN',\n",
       " '',\n",
       " '  ',\n",
       " '\\x0c']"
      ]
     },
     "execution_count": 128,
     "metadata": {},
     "output_type": "execute_result"
    }
   ],
   "source": [
    "InputData"
   ]
  },
  {
   "cell_type": "code",
   "execution_count": 42,
   "metadata": {},
   "outputs": [
    {
     "name": "stdout",
     "output_type": "stream",
     "text": [
      "True\n"
     ]
    }
   ],
   "source": [
    "def confirmDimension(a,b):\n",
    "    if len(a) == len(b):\n",
    "        return True\n",
    "    else:\n",
    "        return False\n",
    "    \n",
    "out = confirmDimension(InputData, dummyCategory)\n",
    "print(out)"
   ]
  },
  {
   "cell_type": "code",
   "execution_count": 52,
   "metadata": {},
   "outputs": [
    {
     "data": {
      "text/plain": [
       "['__ © Ceviche Tropical _ Cheese Sticks',\n",
       " 'TN LOIS Cele COAL eS OR LU Six cheese sticks, served with marinara dipping sauce 5.50',\n",
       " 'pico de gallo and olive oil 8.00 fe Tree',\n",
       " 'amarones Gratinados']"
      ]
     },
     "execution_count": 52,
     "metadata": {},
     "output_type": "execute_result"
    }
   ],
   "source": [
    "InputData[4:8]"
   ]
  },
  {
   "cell_type": "code",
   "execution_count": 86,
   "metadata": {},
   "outputs": [
    {
     "name": "stdout",
     "output_type": "stream",
     "text": [
      "8.0\n",
      "['pico', 'de', 'gallo', 'and', 'olive', 'oil', '8.00', 'fe', 'Tree']\n",
      "1\n"
     ]
    }
   ],
   "source": [
    "u = InputData[6].split(' ')\n",
    "count = 0\n",
    "for ba in u:\n",
    "    try:\n",
    "        print(float(ba))\n",
    "        count += 1\n",
    "    except ValueError:\n",
    "        pass\n",
    "    \n",
    "print(u)\n",
    "print(count)"
   ]
  },
  {
   "cell_type": "code",
   "execution_count": 113,
   "metadata": {},
   "outputs": [],
   "source": [
    "def CheckIntNum(data):\n",
    "    indexes = []\n",
    "    CountTrue = 0\n",
    "    dataSplit = data.split(' ')\n",
    "    for j in dataSplit:\n",
    "        try:\n",
    "            jint = float(j)\n",
    "            CountTrue+= 1\n",
    "            indexes.append(dataSplit.index(j))\n",
    "        except ValueError:\n",
    "            pass\n",
    "    return CountTrue, indexes\n",
    "\n"
   ]
  },
  {
   "cell_type": "code",
   "execution_count": 131,
   "metadata": {},
   "outputs": [
    {
     "name": "stdout",
     "output_type": "stream",
     "text": [
      "45.2 wleile esleiwl \n"
     ]
    }
   ],
   "source": [
    "def concatName(data, start, stop):\n",
    "    #start and stop are both starting and ending indexes\n",
    "    outString = ''\n",
    "    for f in data[start:stop]:\n",
    "        outString = outString + f + ' '\n",
    "        \n",
    "    return outString\n",
    "name = ['eliael', 'elaiel', 'leielwiel', '45.2', 'wleile', 'esleiwl', '34.3']\n",
    "print(concatName(name, 3, 6))"
   ]
  },
  {
   "cell_type": "code",
   "execution_count": 141,
   "metadata": {},
   "outputs": [],
   "source": [
    "Categories = {}#Name as key, dummyCategory and price as a tuple\n",
    "for i, j in zip(InputData, dummyCategory):\n",
    "    dataSplit = i.split(' ')\n",
    "    if CheckIntNum(i)[0] >0:\n",
    "        valOne, valTwo = CheckIntNum(i)\n",
    "        start = 0\n",
    "        for th in range(valOne):\n",
    "            description = InputData[InputData.index(i) - 1]\n",
    "            if CheckIntNum(description)[0] >0:\n",
    "                description = 'Nil'\n",
    "            else:\n",
    "                pass\n",
    "            stop = valTwo[th]\n",
    "            Name = concatName(dataSplit, start, stop)\n",
    "            price = dataSplit[stop]\n",
    "            Categories[Name] = (j, price, description)\n",
    "            start = stop+1\n"
   ]
  },
  {
   "cell_type": "code",
   "execution_count": 147,
   "metadata": {},
   "outputs": [
    {
     "name": "stdout",
     "output_type": "stream",
     "text": [
      "        Categories                                               Name  \\\n",
      "0  “¥APPETIZERS S@  TN LOIS Cele COAL eS OR LU Six cheese sticks, ...   \n",
      "1  “¥APPETIZERS S@                       pico de gallo and olive oil    \n",
      "2  “¥APPETIZERS S@  Made right at your table..!! Mouthwatering fre...   \n",
      "3  “¥APPETIZERS S@          Queso Fundido with melted Mexican cheese    \n",
      "4  “¥APPETIZERS S@      Chorizo (Mexican sausage) with melted cheese    \n",
      "\n",
      "                                         Description price  \n",
      "0              __ © Ceviche Tropical _ Cheese Sticks  5.50  \n",
      "1                                                Nil  8.00  \n",
      "2  _Fresh Guacamole Grilled jumbo shrimp chopped ...  7.99  \n",
      "3       p rilled chicken chopped with onions covered  6.49  \n",
      "4                                                Nil  5.99  \n"
     ]
    }
   ],
   "source": [
    "import pandas as pd\n",
    "def FrameData(cate):\n",
    "    keys, Name, price, description = [], [], [],[]\n",
    "    for k in cate.keys():\n",
    "        keys.append(k)\n",
    "        Name.append(cate[k][0])\n",
    "        price.append(cate[k][1])\n",
    "        description.append(cate[k][2])\n",
    "        \n",
    "    DictFrame = {'Categories':Name, 'Name':keys, 'Description':description, 'price':price}\n",
    "    frame = pd.DataFrame(DictFrame)\n",
    "    return frame\n",
    "    \n",
    "frame = FrameData(Categories)\n",
    "print(frame.head())\n",
    "frame.to_csv('output.csv', index = False)\n"
   ]
  },
  {
   "cell_type": "code",
   "execution_count": null,
   "metadata": {},
   "outputs": [],
   "source": []
  },
  {
   "cell_type": "markdown",
   "metadata": {},
   "source": [
    "# Scrap web"
   ]
  },
  {
   "cell_type": "code",
   "execution_count": 7,
   "metadata": {},
   "outputs": [
    {
     "ename": "URLError",
     "evalue": "<urlopen error [Errno -3] Temporary failure in name resolution>",
     "output_type": "error",
     "traceback": [
      "\u001b[0;31m---------------------------------------------------------------------------\u001b[0m",
      "\u001b[0;31mgaierror\u001b[0m                                  Traceback (most recent call last)",
      "\u001b[0;32m/usr/lib/python3.8/urllib/request.py\u001b[0m in \u001b[0;36mdo_open\u001b[0;34m(self, http_class, req, **http_conn_args)\u001b[0m\n\u001b[1;32m   1325\u001b[0m             \u001b[0;32mtry\u001b[0m\u001b[0;34m:\u001b[0m\u001b[0;34m\u001b[0m\u001b[0;34m\u001b[0m\u001b[0m\n\u001b[0;32m-> 1326\u001b[0;31m                 h.request(req.get_method(), req.selector, req.data, headers,\n\u001b[0m\u001b[1;32m   1327\u001b[0m                           encode_chunked=req.has_header('Transfer-encoding'))\n",
      "\u001b[0;32m/usr/lib/python3.8/http/client.py\u001b[0m in \u001b[0;36mrequest\u001b[0;34m(self, method, url, body, headers, encode_chunked)\u001b[0m\n\u001b[1;32m   1239\u001b[0m         \u001b[0;34m\"\"\"Send a complete request to the server.\"\"\"\u001b[0m\u001b[0;34m\u001b[0m\u001b[0;34m\u001b[0m\u001b[0m\n\u001b[0;32m-> 1240\u001b[0;31m         \u001b[0mself\u001b[0m\u001b[0;34m.\u001b[0m\u001b[0m_send_request\u001b[0m\u001b[0;34m(\u001b[0m\u001b[0mmethod\u001b[0m\u001b[0;34m,\u001b[0m \u001b[0murl\u001b[0m\u001b[0;34m,\u001b[0m \u001b[0mbody\u001b[0m\u001b[0;34m,\u001b[0m \u001b[0mheaders\u001b[0m\u001b[0;34m,\u001b[0m \u001b[0mencode_chunked\u001b[0m\u001b[0;34m)\u001b[0m\u001b[0;34m\u001b[0m\u001b[0;34m\u001b[0m\u001b[0m\n\u001b[0m\u001b[1;32m   1241\u001b[0m \u001b[0;34m\u001b[0m\u001b[0m\n",
      "\u001b[0;32m/usr/lib/python3.8/http/client.py\u001b[0m in \u001b[0;36m_send_request\u001b[0;34m(self, method, url, body, headers, encode_chunked)\u001b[0m\n\u001b[1;32m   1285\u001b[0m             \u001b[0mbody\u001b[0m \u001b[0;34m=\u001b[0m \u001b[0m_encode\u001b[0m\u001b[0;34m(\u001b[0m\u001b[0mbody\u001b[0m\u001b[0;34m,\u001b[0m \u001b[0;34m'body'\u001b[0m\u001b[0;34m)\u001b[0m\u001b[0;34m\u001b[0m\u001b[0;34m\u001b[0m\u001b[0m\n\u001b[0;32m-> 1286\u001b[0;31m         \u001b[0mself\u001b[0m\u001b[0;34m.\u001b[0m\u001b[0mendheaders\u001b[0m\u001b[0;34m(\u001b[0m\u001b[0mbody\u001b[0m\u001b[0;34m,\u001b[0m \u001b[0mencode_chunked\u001b[0m\u001b[0;34m=\u001b[0m\u001b[0mencode_chunked\u001b[0m\u001b[0;34m)\u001b[0m\u001b[0;34m\u001b[0m\u001b[0;34m\u001b[0m\u001b[0m\n\u001b[0m\u001b[1;32m   1287\u001b[0m \u001b[0;34m\u001b[0m\u001b[0m\n",
      "\u001b[0;32m/usr/lib/python3.8/http/client.py\u001b[0m in \u001b[0;36mendheaders\u001b[0;34m(self, message_body, encode_chunked)\u001b[0m\n\u001b[1;32m   1234\u001b[0m             \u001b[0;32mraise\u001b[0m \u001b[0mCannotSendHeader\u001b[0m\u001b[0;34m(\u001b[0m\u001b[0;34m)\u001b[0m\u001b[0;34m\u001b[0m\u001b[0;34m\u001b[0m\u001b[0m\n\u001b[0;32m-> 1235\u001b[0;31m         \u001b[0mself\u001b[0m\u001b[0;34m.\u001b[0m\u001b[0m_send_output\u001b[0m\u001b[0;34m(\u001b[0m\u001b[0mmessage_body\u001b[0m\u001b[0;34m,\u001b[0m \u001b[0mencode_chunked\u001b[0m\u001b[0;34m=\u001b[0m\u001b[0mencode_chunked\u001b[0m\u001b[0;34m)\u001b[0m\u001b[0;34m\u001b[0m\u001b[0;34m\u001b[0m\u001b[0m\n\u001b[0m\u001b[1;32m   1236\u001b[0m \u001b[0;34m\u001b[0m\u001b[0m\n",
      "\u001b[0;32m/usr/lib/python3.8/http/client.py\u001b[0m in \u001b[0;36m_send_output\u001b[0;34m(self, message_body, encode_chunked)\u001b[0m\n\u001b[1;32m   1005\u001b[0m         \u001b[0;32mdel\u001b[0m \u001b[0mself\u001b[0m\u001b[0;34m.\u001b[0m\u001b[0m_buffer\u001b[0m\u001b[0;34m[\u001b[0m\u001b[0;34m:\u001b[0m\u001b[0;34m]\u001b[0m\u001b[0;34m\u001b[0m\u001b[0;34m\u001b[0m\u001b[0m\n\u001b[0;32m-> 1006\u001b[0;31m         \u001b[0mself\u001b[0m\u001b[0;34m.\u001b[0m\u001b[0msend\u001b[0m\u001b[0;34m(\u001b[0m\u001b[0mmsg\u001b[0m\u001b[0;34m)\u001b[0m\u001b[0;34m\u001b[0m\u001b[0;34m\u001b[0m\u001b[0m\n\u001b[0m\u001b[1;32m   1007\u001b[0m \u001b[0;34m\u001b[0m\u001b[0m\n",
      "\u001b[0;32m/usr/lib/python3.8/http/client.py\u001b[0m in \u001b[0;36msend\u001b[0;34m(self, data)\u001b[0m\n\u001b[1;32m    945\u001b[0m             \u001b[0;32mif\u001b[0m \u001b[0mself\u001b[0m\u001b[0;34m.\u001b[0m\u001b[0mauto_open\u001b[0m\u001b[0;34m:\u001b[0m\u001b[0;34m\u001b[0m\u001b[0;34m\u001b[0m\u001b[0m\n\u001b[0;32m--> 946\u001b[0;31m                 \u001b[0mself\u001b[0m\u001b[0;34m.\u001b[0m\u001b[0mconnect\u001b[0m\u001b[0;34m(\u001b[0m\u001b[0;34m)\u001b[0m\u001b[0;34m\u001b[0m\u001b[0;34m\u001b[0m\u001b[0m\n\u001b[0m\u001b[1;32m    947\u001b[0m             \u001b[0;32melse\u001b[0m\u001b[0;34m:\u001b[0m\u001b[0;34m\u001b[0m\u001b[0;34m\u001b[0m\u001b[0m\n",
      "\u001b[0;32m/usr/lib/python3.8/http/client.py\u001b[0m in \u001b[0;36mconnect\u001b[0;34m(self)\u001b[0m\n\u001b[1;32m   1401\u001b[0m \u001b[0;34m\u001b[0m\u001b[0m\n\u001b[0;32m-> 1402\u001b[0;31m             \u001b[0msuper\u001b[0m\u001b[0;34m(\u001b[0m\u001b[0;34m)\u001b[0m\u001b[0;34m.\u001b[0m\u001b[0mconnect\u001b[0m\u001b[0;34m(\u001b[0m\u001b[0;34m)\u001b[0m\u001b[0;34m\u001b[0m\u001b[0;34m\u001b[0m\u001b[0m\n\u001b[0m\u001b[1;32m   1403\u001b[0m \u001b[0;34m\u001b[0m\u001b[0m\n",
      "\u001b[0;32m/usr/lib/python3.8/http/client.py\u001b[0m in \u001b[0;36mconnect\u001b[0;34m(self)\u001b[0m\n\u001b[1;32m    916\u001b[0m         \u001b[0;34m\"\"\"Connect to the host and port specified in __init__.\"\"\"\u001b[0m\u001b[0;34m\u001b[0m\u001b[0;34m\u001b[0m\u001b[0m\n\u001b[0;32m--> 917\u001b[0;31m         self.sock = self._create_connection(\n\u001b[0m\u001b[1;32m    918\u001b[0m             (self.host,self.port), self.timeout, self.source_address)\n",
      "\u001b[0;32m/usr/lib/python3.8/socket.py\u001b[0m in \u001b[0;36mcreate_connection\u001b[0;34m(address, timeout, source_address)\u001b[0m\n\u001b[1;32m    786\u001b[0m     \u001b[0merr\u001b[0m \u001b[0;34m=\u001b[0m \u001b[0;32mNone\u001b[0m\u001b[0;34m\u001b[0m\u001b[0;34m\u001b[0m\u001b[0m\n\u001b[0;32m--> 787\u001b[0;31m     \u001b[0;32mfor\u001b[0m \u001b[0mres\u001b[0m \u001b[0;32min\u001b[0m \u001b[0mgetaddrinfo\u001b[0m\u001b[0;34m(\u001b[0m\u001b[0mhost\u001b[0m\u001b[0;34m,\u001b[0m \u001b[0mport\u001b[0m\u001b[0;34m,\u001b[0m \u001b[0;36m0\u001b[0m\u001b[0;34m,\u001b[0m \u001b[0mSOCK_STREAM\u001b[0m\u001b[0;34m)\u001b[0m\u001b[0;34m:\u001b[0m\u001b[0;34m\u001b[0m\u001b[0;34m\u001b[0m\u001b[0m\n\u001b[0m\u001b[1;32m    788\u001b[0m         \u001b[0maf\u001b[0m\u001b[0;34m,\u001b[0m \u001b[0msocktype\u001b[0m\u001b[0;34m,\u001b[0m \u001b[0mproto\u001b[0m\u001b[0;34m,\u001b[0m \u001b[0mcanonname\u001b[0m\u001b[0;34m,\u001b[0m \u001b[0msa\u001b[0m \u001b[0;34m=\u001b[0m \u001b[0mres\u001b[0m\u001b[0;34m\u001b[0m\u001b[0;34m\u001b[0m\u001b[0m\n",
      "\u001b[0;32m/usr/lib/python3.8/socket.py\u001b[0m in \u001b[0;36mgetaddrinfo\u001b[0;34m(host, port, family, type, proto, flags)\u001b[0m\n\u001b[1;32m    917\u001b[0m     \u001b[0maddrlist\u001b[0m \u001b[0;34m=\u001b[0m \u001b[0;34m[\u001b[0m\u001b[0;34m]\u001b[0m\u001b[0;34m\u001b[0m\u001b[0;34m\u001b[0m\u001b[0m\n\u001b[0;32m--> 918\u001b[0;31m     \u001b[0;32mfor\u001b[0m \u001b[0mres\u001b[0m \u001b[0;32min\u001b[0m \u001b[0m_socket\u001b[0m\u001b[0;34m.\u001b[0m\u001b[0mgetaddrinfo\u001b[0m\u001b[0;34m(\u001b[0m\u001b[0mhost\u001b[0m\u001b[0;34m,\u001b[0m \u001b[0mport\u001b[0m\u001b[0;34m,\u001b[0m \u001b[0mfamily\u001b[0m\u001b[0;34m,\u001b[0m \u001b[0mtype\u001b[0m\u001b[0;34m,\u001b[0m \u001b[0mproto\u001b[0m\u001b[0;34m,\u001b[0m \u001b[0mflags\u001b[0m\u001b[0;34m)\u001b[0m\u001b[0;34m:\u001b[0m\u001b[0;34m\u001b[0m\u001b[0;34m\u001b[0m\u001b[0m\n\u001b[0m\u001b[1;32m    919\u001b[0m         \u001b[0maf\u001b[0m\u001b[0;34m,\u001b[0m \u001b[0msocktype\u001b[0m\u001b[0;34m,\u001b[0m \u001b[0mproto\u001b[0m\u001b[0;34m,\u001b[0m \u001b[0mcanonname\u001b[0m\u001b[0;34m,\u001b[0m \u001b[0msa\u001b[0m \u001b[0;34m=\u001b[0m \u001b[0mres\u001b[0m\u001b[0;34m\u001b[0m\u001b[0;34m\u001b[0m\u001b[0m\n",
      "\u001b[0;31mgaierror\u001b[0m: [Errno -3] Temporary failure in name resolution",
      "\nDuring handling of the above exception, another exception occurred:\n",
      "\u001b[0;31mURLError\u001b[0m                                  Traceback (most recent call last)",
      "\u001b[0;32m<ipython-input-7-0ad5e6661ede>\u001b[0m in \u001b[0;36m<module>\u001b[0;34m\u001b[0m\n\u001b[1;32m      3\u001b[0m \u001b[0;34m\u001b[0m\u001b[0m\n\u001b[1;32m      4\u001b[0m \u001b[0murl\u001b[0m \u001b[0;34m=\u001b[0m \u001b[0;34m'https://www.just-eat.com/'\u001b[0m\u001b[0;34m\u001b[0m\u001b[0;34m\u001b[0m\u001b[0m\n\u001b[0;32m----> 5\u001b[0;31m \u001b[0mpage\u001b[0m \u001b[0;34m=\u001b[0m \u001b[0murlopen\u001b[0m\u001b[0;34m(\u001b[0m\u001b[0murl\u001b[0m\u001b[0;34m)\u001b[0m\u001b[0;34m\u001b[0m\u001b[0;34m\u001b[0m\u001b[0m\n\u001b[0m\u001b[1;32m      6\u001b[0m \u001b[0mhtml\u001b[0m \u001b[0;34m=\u001b[0m \u001b[0mpage\u001b[0m\u001b[0;34m.\u001b[0m\u001b[0mread\u001b[0m\u001b[0;34m(\u001b[0m\u001b[0;34m)\u001b[0m\u001b[0;34m.\u001b[0m\u001b[0mdecode\u001b[0m\u001b[0;34m(\u001b[0m\u001b[0;34m\"utf-8\"\u001b[0m\u001b[0;34m)\u001b[0m\u001b[0;34m\u001b[0m\u001b[0;34m\u001b[0m\u001b[0m\n\u001b[1;32m      7\u001b[0m \u001b[0msoup\u001b[0m \u001b[0;34m=\u001b[0m \u001b[0mBeautifulSoup\u001b[0m\u001b[0;34m(\u001b[0m\u001b[0mhtml\u001b[0m\u001b[0;34m,\u001b[0m \u001b[0;34m\"html.parser\"\u001b[0m\u001b[0;34m)\u001b[0m\u001b[0;34m\u001b[0m\u001b[0;34m\u001b[0m\u001b[0m\n",
      "\u001b[0;32m/usr/lib/python3.8/urllib/request.py\u001b[0m in \u001b[0;36murlopen\u001b[0;34m(url, data, timeout, cafile, capath, cadefault, context)\u001b[0m\n\u001b[1;32m    220\u001b[0m     \u001b[0;32melse\u001b[0m\u001b[0;34m:\u001b[0m\u001b[0;34m\u001b[0m\u001b[0;34m\u001b[0m\u001b[0m\n\u001b[1;32m    221\u001b[0m         \u001b[0mopener\u001b[0m \u001b[0;34m=\u001b[0m \u001b[0m_opener\u001b[0m\u001b[0;34m\u001b[0m\u001b[0;34m\u001b[0m\u001b[0m\n\u001b[0;32m--> 222\u001b[0;31m     \u001b[0;32mreturn\u001b[0m \u001b[0mopener\u001b[0m\u001b[0;34m.\u001b[0m\u001b[0mopen\u001b[0m\u001b[0;34m(\u001b[0m\u001b[0murl\u001b[0m\u001b[0;34m,\u001b[0m \u001b[0mdata\u001b[0m\u001b[0;34m,\u001b[0m \u001b[0mtimeout\u001b[0m\u001b[0;34m)\u001b[0m\u001b[0;34m\u001b[0m\u001b[0;34m\u001b[0m\u001b[0m\n\u001b[0m\u001b[1;32m    223\u001b[0m \u001b[0;34m\u001b[0m\u001b[0m\n\u001b[1;32m    224\u001b[0m \u001b[0;32mdef\u001b[0m \u001b[0minstall_opener\u001b[0m\u001b[0;34m(\u001b[0m\u001b[0mopener\u001b[0m\u001b[0;34m)\u001b[0m\u001b[0;34m:\u001b[0m\u001b[0;34m\u001b[0m\u001b[0;34m\u001b[0m\u001b[0m\n",
      "\u001b[0;32m/usr/lib/python3.8/urllib/request.py\u001b[0m in \u001b[0;36mopen\u001b[0;34m(self, fullurl, data, timeout)\u001b[0m\n\u001b[1;32m    523\u001b[0m \u001b[0;34m\u001b[0m\u001b[0m\n\u001b[1;32m    524\u001b[0m         \u001b[0msys\u001b[0m\u001b[0;34m.\u001b[0m\u001b[0maudit\u001b[0m\u001b[0;34m(\u001b[0m\u001b[0;34m'urllib.Request'\u001b[0m\u001b[0;34m,\u001b[0m \u001b[0mreq\u001b[0m\u001b[0;34m.\u001b[0m\u001b[0mfull_url\u001b[0m\u001b[0;34m,\u001b[0m \u001b[0mreq\u001b[0m\u001b[0;34m.\u001b[0m\u001b[0mdata\u001b[0m\u001b[0;34m,\u001b[0m \u001b[0mreq\u001b[0m\u001b[0;34m.\u001b[0m\u001b[0mheaders\u001b[0m\u001b[0;34m,\u001b[0m \u001b[0mreq\u001b[0m\u001b[0;34m.\u001b[0m\u001b[0mget_method\u001b[0m\u001b[0;34m(\u001b[0m\u001b[0;34m)\u001b[0m\u001b[0;34m)\u001b[0m\u001b[0;34m\u001b[0m\u001b[0;34m\u001b[0m\u001b[0m\n\u001b[0;32m--> 525\u001b[0;31m         \u001b[0mresponse\u001b[0m \u001b[0;34m=\u001b[0m \u001b[0mself\u001b[0m\u001b[0;34m.\u001b[0m\u001b[0m_open\u001b[0m\u001b[0;34m(\u001b[0m\u001b[0mreq\u001b[0m\u001b[0;34m,\u001b[0m \u001b[0mdata\u001b[0m\u001b[0;34m)\u001b[0m\u001b[0;34m\u001b[0m\u001b[0;34m\u001b[0m\u001b[0m\n\u001b[0m\u001b[1;32m    526\u001b[0m \u001b[0;34m\u001b[0m\u001b[0m\n\u001b[1;32m    527\u001b[0m         \u001b[0;31m# post-process response\u001b[0m\u001b[0;34m\u001b[0m\u001b[0;34m\u001b[0m\u001b[0;34m\u001b[0m\u001b[0m\n",
      "\u001b[0;32m/usr/lib/python3.8/urllib/request.py\u001b[0m in \u001b[0;36m_open\u001b[0;34m(self, req, data)\u001b[0m\n\u001b[1;32m    540\u001b[0m \u001b[0;34m\u001b[0m\u001b[0m\n\u001b[1;32m    541\u001b[0m         \u001b[0mprotocol\u001b[0m \u001b[0;34m=\u001b[0m \u001b[0mreq\u001b[0m\u001b[0;34m.\u001b[0m\u001b[0mtype\u001b[0m\u001b[0;34m\u001b[0m\u001b[0;34m\u001b[0m\u001b[0m\n\u001b[0;32m--> 542\u001b[0;31m         result = self._call_chain(self.handle_open, protocol, protocol +\n\u001b[0m\u001b[1;32m    543\u001b[0m                                   '_open', req)\n\u001b[1;32m    544\u001b[0m         \u001b[0;32mif\u001b[0m \u001b[0mresult\u001b[0m\u001b[0;34m:\u001b[0m\u001b[0;34m\u001b[0m\u001b[0;34m\u001b[0m\u001b[0m\n",
      "\u001b[0;32m/usr/lib/python3.8/urllib/request.py\u001b[0m in \u001b[0;36m_call_chain\u001b[0;34m(self, chain, kind, meth_name, *args)\u001b[0m\n\u001b[1;32m    500\u001b[0m         \u001b[0;32mfor\u001b[0m \u001b[0mhandler\u001b[0m \u001b[0;32min\u001b[0m \u001b[0mhandlers\u001b[0m\u001b[0;34m:\u001b[0m\u001b[0;34m\u001b[0m\u001b[0;34m\u001b[0m\u001b[0m\n\u001b[1;32m    501\u001b[0m             \u001b[0mfunc\u001b[0m \u001b[0;34m=\u001b[0m \u001b[0mgetattr\u001b[0m\u001b[0;34m(\u001b[0m\u001b[0mhandler\u001b[0m\u001b[0;34m,\u001b[0m \u001b[0mmeth_name\u001b[0m\u001b[0;34m)\u001b[0m\u001b[0;34m\u001b[0m\u001b[0;34m\u001b[0m\u001b[0m\n\u001b[0;32m--> 502\u001b[0;31m             \u001b[0mresult\u001b[0m \u001b[0;34m=\u001b[0m \u001b[0mfunc\u001b[0m\u001b[0;34m(\u001b[0m\u001b[0;34m*\u001b[0m\u001b[0margs\u001b[0m\u001b[0;34m)\u001b[0m\u001b[0;34m\u001b[0m\u001b[0;34m\u001b[0m\u001b[0m\n\u001b[0m\u001b[1;32m    503\u001b[0m             \u001b[0;32mif\u001b[0m \u001b[0mresult\u001b[0m \u001b[0;32mis\u001b[0m \u001b[0;32mnot\u001b[0m \u001b[0;32mNone\u001b[0m\u001b[0;34m:\u001b[0m\u001b[0;34m\u001b[0m\u001b[0;34m\u001b[0m\u001b[0m\n\u001b[1;32m    504\u001b[0m                 \u001b[0;32mreturn\u001b[0m \u001b[0mresult\u001b[0m\u001b[0;34m\u001b[0m\u001b[0;34m\u001b[0m\u001b[0m\n",
      "\u001b[0;32m/usr/lib/python3.8/urllib/request.py\u001b[0m in \u001b[0;36mhttps_open\u001b[0;34m(self, req)\u001b[0m\n\u001b[1;32m   1367\u001b[0m \u001b[0;34m\u001b[0m\u001b[0m\n\u001b[1;32m   1368\u001b[0m         \u001b[0;32mdef\u001b[0m \u001b[0mhttps_open\u001b[0m\u001b[0;34m(\u001b[0m\u001b[0mself\u001b[0m\u001b[0;34m,\u001b[0m \u001b[0mreq\u001b[0m\u001b[0;34m)\u001b[0m\u001b[0;34m:\u001b[0m\u001b[0;34m\u001b[0m\u001b[0;34m\u001b[0m\u001b[0m\n\u001b[0;32m-> 1369\u001b[0;31m             return self.do_open(http.client.HTTPSConnection, req,\n\u001b[0m\u001b[1;32m   1370\u001b[0m                 context=self._context, check_hostname=self._check_hostname)\n\u001b[1;32m   1371\u001b[0m \u001b[0;34m\u001b[0m\u001b[0m\n",
      "\u001b[0;32m/usr/lib/python3.8/urllib/request.py\u001b[0m in \u001b[0;36mdo_open\u001b[0;34m(self, http_class, req, **http_conn_args)\u001b[0m\n\u001b[1;32m   1327\u001b[0m                           encode_chunked=req.has_header('Transfer-encoding'))\n\u001b[1;32m   1328\u001b[0m             \u001b[0;32mexcept\u001b[0m \u001b[0mOSError\u001b[0m \u001b[0;32mas\u001b[0m \u001b[0merr\u001b[0m\u001b[0;34m:\u001b[0m \u001b[0;31m# timeout error\u001b[0m\u001b[0;34m\u001b[0m\u001b[0;34m\u001b[0m\u001b[0m\n\u001b[0;32m-> 1329\u001b[0;31m                 \u001b[0;32mraise\u001b[0m \u001b[0mURLError\u001b[0m\u001b[0;34m(\u001b[0m\u001b[0merr\u001b[0m\u001b[0;34m)\u001b[0m\u001b[0;34m\u001b[0m\u001b[0;34m\u001b[0m\u001b[0m\n\u001b[0m\u001b[1;32m   1330\u001b[0m             \u001b[0mr\u001b[0m \u001b[0;34m=\u001b[0m \u001b[0mh\u001b[0m\u001b[0;34m.\u001b[0m\u001b[0mgetresponse\u001b[0m\u001b[0;34m(\u001b[0m\u001b[0;34m)\u001b[0m\u001b[0;34m\u001b[0m\u001b[0;34m\u001b[0m\u001b[0m\n\u001b[1;32m   1331\u001b[0m         \u001b[0;32mexcept\u001b[0m\u001b[0;34m:\u001b[0m\u001b[0;34m\u001b[0m\u001b[0;34m\u001b[0m\u001b[0m\n",
      "\u001b[0;31mURLError\u001b[0m: <urlopen error [Errno -3] Temporary failure in name resolution>"
     ]
    }
   ],
   "source": [
    "from bs4 import BeautifulSoup\n",
    "from urllib.request import urlopen\n",
    "\n",
    "url = 'https://www.just-eat.com/'\n",
    "page = urlopen(url)\n",
    "html = page.read().decode(\"utf-8\")\n",
    "soup = BeautifulSoup(html, \"html.parser\")\n"
   ]
  },
  {
   "cell_type": "code",
   "execution_count": null,
   "metadata": {},
   "outputs": [],
   "source": [
    "text = soup.get_text()\n",
    "text.split(' ')"
   ]
  },
  {
   "cell_type": "code",
   "execution_count": null,
   "metadata": {},
   "outputs": [],
   "source": []
  },
  {
   "cell_type": "code",
   "execution_count": null,
   "metadata": {},
   "outputs": [],
   "source": []
  },
  {
   "cell_type": "code",
   "execution_count": null,
   "metadata": {},
   "outputs": [],
   "source": []
  }
 ],
 "metadata": {
  "kernelspec": {
   "display_name": "Python 3",
   "language": "python",
   "name": "python3"
  },
  "language_info": {
   "codemirror_mode": {
    "name": "ipython",
    "version": 3
   },
   "file_extension": ".py",
   "mimetype": "text/x-python",
   "name": "python",
   "nbconvert_exporter": "python",
   "pygments_lexer": "ipython3",
   "version": "3.8.2"
  }
 },
 "nbformat": 4,
 "nbformat_minor": 4
}
