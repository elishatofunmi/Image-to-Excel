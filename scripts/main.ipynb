{
 "cells": [
  {
   "cell_type": "code",
   "execution_count": 1,
   "metadata": {},
   "outputs": [],
   "source": [
    "import cv2\n",
    "import pytesseract\n",
    "import numpy as np\n",
    "import os, sys\n"
   ]
  },
  {
   "cell_type": "code",
   "execution_count": 2,
   "metadata": {},
   "outputs": [
    {
     "data": {
      "text/plain": [
       "'/home/odemakinde/Desktop/Image to Excel/Image-to-Excel/scripts'"
      ]
     },
     "execution_count": 2,
     "metadata": {},
     "output_type": "execute_result"
    }
   ],
   "source": [
    "os.getcwd()"
   ]
  },
  {
   "cell_type": "code",
   "execution_count": 3,
   "metadata": {},
   "outputs": [],
   "source": [
    "os.chdir('/home/odemakinde/Desktop/Image to Excel/Image-to-Excel/test images/')"
   ]
  },
  {
   "cell_type": "markdown",
   "metadata": {},
   "source": [
    "# menu analysis"
   ]
  },
  {
   "cell_type": "code",
   "execution_count": 152,
   "metadata": {},
   "outputs": [],
   "source": [
    "img = cv2.imread('menu.jpg')\n",
    "gray = cv2.cvtColor(img, cv2.COLOR_RGB2GRAY)\n",
    "gray, img_bin = cv2.threshold(gray,128,255,cv2.THRESH_BINARY | cv2.THRESH_OTSU)\n",
    "gray = cv2.bitwise_not(img_bin)\n",
    "#cv2.imshow('image', gray)\n",
    "#cv2.waitKey(0)\n",
    "#cv2.destroyAllWindows()"
   ]
  },
  {
   "cell_type": "code",
   "execution_count": 153,
   "metadata": {},
   "outputs": [
    {
     "name": "stdout",
     "output_type": "stream",
     "text": [
      "OUTPUT:   \n",
      " \n",
      "\n",
      "0 eu\n",
      "\n",
      "mitten\n",
      "Chicken / Dolle\n",
      "\n",
      "8- WHOLE ROTISSERIE CHICKEN / Pollo a la Brasa (Entero)\n",
      "me Prasat slate eto eee Rome)\n",
      "alee ead Pease cues eRe Om ane mmI CCE med\n",
      "BANDEJA de POLLO, 1/4 de Pollo, Ensalada, Consomé, Papas Fritas y Arroz\n",
      "11- MIXED CHICKEN with RICE / Salad and Sweet Plantains\n",
      "ARROZ con POLLO, Ensalada y Maduro\n",
      "Ae a ta el) ie aes)\n",
      "CONSOME de MENUDENCIAS, Arroz y Ensalada\n",
      "were Ns d fo) TAM et eo ec Ry\n",
      "ee eRe ee we era eo SnICT Se RM Cle ce)\n",
      "eee) [ante ea pate) Be ee etme ce ere |\n",
      "PECHUGA de POLLO al LIMON, Arroz, Papas Fritas y Ensalada\n",
      "eboSe=o0) [estore ie (ere enna ones cl\n",
      "PERNIL de POLLO, Amoz, Papas Fritas y Ensalada\n",
      "SCS Te edie bE te ec eC}\n",
      "PECHUGA de POLLO EMPANIZADO, Arroz, Frijoles, Ensalada y Maduro\n",
      "17- BONELESS CHICKEN BREAST in MUSHROOM SAUCE / Rice, Salad & French Fries\n",
      "Poteet Wola ce) Ree ey Ry Caran ce Artoz, Ensalada y Papas Fritas\n",
      "SES OC Bia e-em acm\n",
      "PECHUGA HAWAIANA, Arroz Blanco y Papas Fritas\n",
      "MR aR Aa ae ei ge Pee ene Um UM Rea eee]\n",
      "\n",
      "FILETE de PECHUGA APANADA dei CHEF, Pechuga Apanada de Pollo rellena,\n",
      "de Jamén y Queso Mozzarella\n",
      "\n",
      "  \n",
      "\f",
      "\n"
     ]
    }
   ],
   "source": [
    "kernel = np.ones((2, 1), np.uint8)\n",
    "img = cv2.erode(gray, kernel, iterations=1)\n",
    "img = cv2.dilate(img, kernel, iterations=1)\n",
    "out_below = pytesseract.image_to_string(img)\n",
    "print(\"OUTPUT:\", out_below)"
   ]
  },
  {
   "cell_type": "code",
   "execution_count": 181,
   "metadata": {},
   "outputs": [
    {
     "data": {
      "text/plain": [
       "['   0 eumittenChicken / Dolle8',\n",
       " ' WHOLE ROTISSERIE CHICKEN / Pollo a la Brasa (Entero)me Prasat slate eto eee Rome)alee ead Pease cues eRe Om ane mmI CCE medBANDEJA de POLLO, 1/4 de Pollo, Ensalada, Consomé, Papas Fritas y Arroz11',\n",
       " ' MIXED CHICKEN with RICE / Salad and Sweet PlantainsARROZ con POLLO, Ensalada y MaduroAe a ta el) ie aes)CONSOME de MENUDENCIAS, Arroz y Ensaladawere Ns d fo) TAM et eo ec Ryee eRe ee we era eo SnICT Se RM Cle ce)eee) [ante ea pate) Be ee etme ce ere |PECHUGA de POLLO al LIMON, Arroz, Papas Fritas y EnsaladaeboSe=o0) [estore ie (ere enna ones clPERNIL de POLLO, Amoz, Papas Fritas y EnsaladaSCS Te edie bE te ec eC}PECHUGA de POLLO EMPANIZADO, Arroz, Frijoles, Ensalada y Maduro17',\n",
       " ' BONELESS CHICKEN BREAST in MUSHROOM SAUCE / Rice, Salad & French FriesPoteet Wola ce) Ree ey Ry Caran ce Artoz, Ensalada y Papas FritasSES OC Bia e',\n",
       " 'em acmPECHUGA HAWAIANA, Arroz Blanco y Papas FritasMR aR Aa ae ei ge Pee ene Um UM Rea eee]FILETE de PECHUGA APANADA dei CHEF, Pechuga Apanada de Pollo rellena,de Jamén y Queso Mozzarella  \\x0c']"
      ]
     },
     "execution_count": 181,
     "metadata": {},
     "output_type": "execute_result"
    }
   ],
   "source": [
    "out = []\n",
    "for k in out_below.split('-'):\n",
    "    out.append(k.replace('\\n', ''))\n",
    "out"
   ]
  },
  {
   "cell_type": "code",
   "execution_count": 186,
   "metadata": {},
   "outputs": [
    {
     "name": "stdout",
     "output_type": "stream",
     "text": [
      "                                                Name  \\\n",
      "0                                  0 eumittenChicken   \n",
      "1                           WHOLE ROTISSERIE CHICKEN   \n",
      "2                            MIXED CHICKEN with RICE   \n",
      "3          BONELESS CHICKEN BREAST in MUSHROOM SAUCE   \n",
      "4  em acmPECHUGA HAWAIANA, Arroz Blanco y Papas F...   \n",
      "\n",
      "                                         description  \n",
      "0                                             Dolle8  \n",
      "1  Pollo a la Brasa (Entero)me Prasat slate eto e...  \n",
      "2  Salad and Sweet PlantainsARROZ con POLLO, Ensa...  \n",
      "3  Rice, Salad & French FriesPoteet Wola ce) Ree ...  \n",
      "4                                                nil  \n"
     ]
    }
   ],
   "source": [
    "import pandas as pd\n",
    "\n",
    "def engageData(out):\n",
    "    DictData = {}\n",
    "    for k in out:\n",
    "        try:\n",
    "            listData = k.strip(' ').split(' / ')\n",
    "            DictData[listData[0]] = listData[1]\n",
    "        except:\n",
    "            DictData[listData[0]] = 'nil'\n",
    "\n",
    "        \n",
    "    return DictData\n",
    "\n",
    "DictData = engageData(out)\n",
    "\n",
    "def FrameData(cate):\n",
    "    Name, description = [], []\n",
    "    for k in cate.keys():\n",
    "        Name.append(k)\n",
    "        description.append(cate[k])\n",
    "        \n",
    "    DictFrame = {'Name':Name, 'description':description}\n",
    "    frame = pd.DataFrame(DictFrame)\n",
    "    return frame\n",
    "    \n",
    "frame = FrameData(DictData)\n",
    "print(frame.head())\n",
    "frame.to_csv('output1.csv', index = False)"
   ]
  },
  {
   "cell_type": "markdown",
   "metadata": {},
   "source": [
    "# menu 2 analysis"
   ]
  },
  {
   "cell_type": "code",
   "execution_count": 148,
   "metadata": {},
   "outputs": [],
   "source": [
    "img = cv2.imread('menu2.jpg')\n",
    "gray = cv2.cvtColor(img, cv2.COLOR_RGB2GRAY)\n",
    "gray, img_bin = cv2.threshold(gray,128,255,cv2.THRESH_BINARY | cv2.THRESH_OTSU)\n",
    "gray = cv2.bitwise_not(img_bin)\n",
    "#cv2.imshow('image', gray)\n",
    "#cv2.waitKey(0)\n",
    "#cv2.destroyAllWindows()"
   ]
  },
  {
   "cell_type": "code",
   "execution_count": 149,
   "metadata": {},
   "outputs": [
    {
     "name": "stdout",
     "output_type": "stream",
     "text": [
      "OUTPUT:   \n",
      " \n",
      "\n",
      "0 eu\n",
      "\n",
      "mitten\n",
      "Chicken / Dolle\n",
      "\n",
      "8- WHOLE ROTISSERIE CHICKEN / Pollo a la Brasa (Entero)\n",
      "me Prasat slate eto eee Rome)\n",
      "alee ead Pease cues eRe Om ane mmI CCE med\n",
      "BANDEJA de POLLO, 1/4 de Pollo, Ensalada, Consomé, Papas Fritas y Arroz\n",
      "11- MIXED CHICKEN with RICE / Salad and Sweet Plantains\n",
      "ARROZ con POLLO, Ensalada y Maduro\n",
      "Ae a ta el) ie aes)\n",
      "CONSOME de MENUDENCIAS, Arroz y Ensalada\n",
      "were Ns d fo) TAM et eo ec Ry\n",
      "ee eRe ee we era eo SnICT Se RM Cle ce)\n",
      "eee) [ante ea pate) Be ee etme ce ere |\n",
      "PECHUGA de POLLO al LIMON, Arroz, Papas Fritas y Ensalada\n",
      "eboSe=o0) [estore ie (ere enna ones cl\n",
      "PERNIL de POLLO, Amoz, Papas Fritas y Ensalada\n",
      "SCS Te edie bE te ec eC}\n",
      "PECHUGA de POLLO EMPANIZADO, Arroz, Frijoles, Ensalada y Maduro\n",
      "17- BONELESS CHICKEN BREAST in MUSHROOM SAUCE / Rice, Salad & French Fries\n",
      "Poteet Wola ce) Ree ey Ry Caran ce Artoz, Ensalada y Papas Fritas\n",
      "SES OC Bia e-em acm\n",
      "PECHUGA HAWAIANA, Arroz Blanco y Papas Fritas\n",
      "MR aR Aa ae ei ge Pee ene Um UM Rea eee]\n",
      "\n",
      "FILETE de PECHUGA APANADA dei CHEF, Pechuga Apanada de Pollo rellena,\n",
      "de Jamén y Queso Mozzarella\n",
      "\n",
      "  \n",
      "\f",
      "\n"
     ]
    }
   ],
   "source": [
    "kernel = np.ones((2, 1), np.uint8)\n",
    "img = cv2.erode(gray, kernel, iterations=1)\n",
    "img = cv2.dilate(img, kernel, iterations=1)\n",
    "out_below = pytesseract.image_to_string(img)\n",
    "print(\"OUTPUT:\", out_below)"
   ]
  },
  {
   "cell_type": "code",
   "execution_count": 150,
   "metadata": {},
   "outputs": [
    {
     "data": {
      "text/plain": [
       "{}"
      ]
     },
     "execution_count": 150,
     "metadata": {},
     "output_type": "execute_result"
    }
   ],
   "source": [
    "splitByNewLines = out_below.split('\\n')\n",
    "\n",
    "KeyCategory = {}\n",
    "count = 0\n",
    "for k in splitByNewLines:\n",
    "    for m in k:\n",
    "        l = 0            \n",
    "        if m.isupper():\n",
    "            KeyCategory[k] = count\n",
    "            count += 1\n",
    "        else:\n",
    "            count += 1\n",
    "KeyCategory"
   ]
  },
  {
   "cell_type": "code",
   "execution_count": 33,
   "metadata": {},
   "outputs": [
    {
     "data": {
      "text/plain": [
       "[' ', '', '*FRESH GUACAMOLE *CEVICHE TROPICAL', '', '“¥APPETIZERS S@']"
      ]
     },
     "execution_count": 33,
     "metadata": {},
     "output_type": "execute_result"
    }
   ],
   "source": [
    "splitByNewLines[:5]"
   ]
  },
  {
   "cell_type": "code",
   "execution_count": 22,
   "metadata": {},
   "outputs": [
    {
     "data": {
      "text/plain": [
       "'*FRESH GUACAMOLE *CEVICHE TROPICAL'"
      ]
     },
     "execution_count": 22,
     "metadata": {},
     "output_type": "execute_result"
    }
   ],
   "source": [
    "list(KeyCategory.keys())[0]"
   ]
  },
  {
   "cell_type": "code",
   "execution_count": 36,
   "metadata": {},
   "outputs": [],
   "source": [
    "def createDummyCategory(Categories, gauge):\n",
    "    DummyCategory = []\n",
    "    start, stop = 0, 0\n",
    "    try:\n",
    "        for k in Categories.values():\n",
    "            start = k\n",
    "            mm = list(KeyCategory.values()).index(k)+1\n",
    "            stop = list(KeyCategory.values())[mm]\n",
    "            for f in range(start, stop):\n",
    "                DummyCategory.append(list(KeyCategory.keys())[mm-1])\n",
    "    except IndexError:\n",
    "        start = k\n",
    "        mm = list(KeyCategory.values()).index(k)+1\n",
    "        stop = gauge\n",
    "        for f in range(start, stop):\n",
    "            DummyCategory.append(list(KeyCategory.keys())[mm-1])\n",
    "        \n",
    "    return DummyCategory\n",
    "gauge = len(splitByNewLines)\n",
    "dummyCategory = createDummyCategory(KeyCategory, gauge)"
   ]
  },
  {
   "cell_type": "code",
   "execution_count": 39,
   "metadata": {},
   "outputs": [],
   "source": [
    "def CutData(data, data_keys):\n",
    "    first = list(data_keys.keys())[0]\n",
    "    index= data.index(first)\n",
    "    \n",
    "    return data[index:]\n",
    "\n",
    "InputData = CutData(splitByNewLines, KeyCategory)"
   ]
  },
  {
   "cell_type": "code",
   "execution_count": 128,
   "metadata": {},
   "outputs": [
    {
     "data": {
      "text/plain": [
       "['*FRESH GUACAMOLE *CEVICHE TROPICAL',\n",
       " '',\n",
       " '“¥APPETIZERS S@',\n",
       " '',\n",
       " '__ © Ceviche Tropical _ Cheese Sticks',\n",
       " 'TN LOIS Cele COAL eS OR LU Six cheese sticks, served with marinara dipping sauce 5.50',\n",
       " 'pico de gallo and olive oil 8.00 fe Tree',\n",
       " 'amarones Gratinados',\n",
       " '_Fresh Guacamole Grilled jumbo shrimp chopped with onions, covered',\n",
       " 'Made right at your table..!! Mouthwatering fresh with melted Mexican cheese 7.99',\n",
       " 'chunks of avocado, diced onions, tomatoes, cilantro ;',\n",
       " 'Teo SOA ari Pollo Gratinado',\n",
       " 'p rilled chicken chopped with onions covered',\n",
       " 'Queso Fundido with melted Mexican cheese 6.49',\n",
       " 'Chorizo (Mexican sausage) with melted cheese 5.99 NE P|',\n",
       " 'itas de rollo',\n",
       " 'Tossed Salad Seven chicken wings bone in, served with celery',\n",
       " 'Lettuce, tomatoes, onions, bell pepper, cucumber, sticks and dipping sauce 6.99',\n",
       " 'mushroom and cheese. Served with your choice of Flavors:',\n",
       " 'dressing 3.75 Original, Teriyaki, BBO, Sweet & Sour, Mango Habanero',\n",
       " '',\n",
       " 'NACHOS DIPS',\n",
       " '',\n",
       " 'Cheese 3.99 Beef 5.00',\n",
       " '',\n",
       " 'Cheese Nachos aaele Bean 4.25 Spinach 4.00',\n",
       " 'Bean and Cheese 4.75',\n",
       " 'Chicken and Cheese omelt S eo P S',\n",
       " 'Beef and Cheese 5.50 U',\n",
       " 'Beef, Bean and Cheese 5.85',\n",
       " 'Chicken, Bean and Cheese 5.85 oa Soup 9.25',\n",
       " 'ile caae sey 6.25',\n",
       " 'Nachos BBQ Calle cia OCCU SIA Ke10/¢(c¢ Rene Col',\n",
       " 'Grilled chicken, sautéed with our special BBQ sauce, rice, avocado and pico de gallo',\n",
       " '',\n",
       " 'topped with onions and cilantro 8.99',\n",
       " '',\n",
       " 'Nachos edu eae',\n",
       " 'Beef, beans, lettuce, sour cream,',\n",
       " 'tomatoes and cheese 7.75',\n",
       " '',\n",
       " '& San Jose Nachos',\n",
       " 'A mix of chicken, chorizo and applewood bacon, topped',\n",
       " 'with refried beans, pico de gallo, sour cream, and pickled',\n",
       " 'jalapefios. 8.50',\n",
       " '',\n",
       " ' ',\n",
       " '',\n",
       " '*CHICKEN SOUP',\n",
       " '',\n",
       " 'BOM Dr ee ROCCHI RC MCRL CCC em CSAC LCO ASS IMaSS RELC Sy',\n",
       " 'Tee ACR aa em ec Ae CRC CC CMC a DCT Cm UT Ree)',\n",
       " 'SCC ee Be CUM LEIGH CILMI UP MAL CUER OMT Mee TMU Cr| Coney',\n",
       " 'that might cause an allergic reaction.',\n",
       " '',\n",
       " 'VR RR RR RN',\n",
       " '',\n",
       " '  ',\n",
       " '\\x0c']"
      ]
     },
     "execution_count": 128,
     "metadata": {},
     "output_type": "execute_result"
    }
   ],
   "source": [
    "InputData"
   ]
  },
  {
   "cell_type": "code",
   "execution_count": 42,
   "metadata": {},
   "outputs": [
    {
     "name": "stdout",
     "output_type": "stream",
     "text": [
      "True\n"
     ]
    }
   ],
   "source": [
    "def confirmDimension(a,b):\n",
    "    if len(a) == len(b):\n",
    "        return True\n",
    "    else:\n",
    "        return False\n",
    "    \n",
    "out = confirmDimension(InputData, dummyCategory)\n",
    "print(out)"
   ]
  },
  {
   "cell_type": "code",
   "execution_count": 52,
   "metadata": {},
   "outputs": [
    {
     "data": {
      "text/plain": [
       "['__ © Ceviche Tropical _ Cheese Sticks',\n",
       " 'TN LOIS Cele COAL eS OR LU Six cheese sticks, served with marinara dipping sauce 5.50',\n",
       " 'pico de gallo and olive oil 8.00 fe Tree',\n",
       " 'amarones Gratinados']"
      ]
     },
     "execution_count": 52,
     "metadata": {},
     "output_type": "execute_result"
    }
   ],
   "source": [
    "InputData[4:8]"
   ]
  },
  {
   "cell_type": "code",
   "execution_count": 86,
   "metadata": {},
   "outputs": [
    {
     "name": "stdout",
     "output_type": "stream",
     "text": [
      "8.0\n",
      "['pico', 'de', 'gallo', 'and', 'olive', 'oil', '8.00', 'fe', 'Tree']\n",
      "1\n"
     ]
    }
   ],
   "source": [
    "u = InputData[6].split(' ')\n",
    "count = 0\n",
    "for ba in u:\n",
    "    try:\n",
    "        print(float(ba))\n",
    "        count += 1\n",
    "    except ValueError:\n",
    "        pass\n",
    "    \n",
    "print(u)\n",
    "print(count)"
   ]
  },
  {
   "cell_type": "code",
   "execution_count": 113,
   "metadata": {},
   "outputs": [],
   "source": [
    "def CheckIntNum(data):\n",
    "    indexes = []\n",
    "    CountTrue = 0\n",
    "    dataSplit = data.split(' ')\n",
    "    for j in dataSplit:\n",
    "        try:\n",
    "            jint = float(j)\n",
    "            CountTrue+= 1\n",
    "            indexes.append(dataSplit.index(j))\n",
    "        except ValueError:\n",
    "            pass\n",
    "    return CountTrue, indexes\n",
    "\n"
   ]
  },
  {
   "cell_type": "code",
   "execution_count": 131,
   "metadata": {},
   "outputs": [
    {
     "name": "stdout",
     "output_type": "stream",
     "text": [
      "45.2 wleile esleiwl \n"
     ]
    }
   ],
   "source": [
    "def concatName(data, start, stop):\n",
    "    #start and stop are both starting and ending indexes\n",
    "    outString = ''\n",
    "    for f in data[start:stop]:\n",
    "        outString = outString + f + ' '\n",
    "        \n",
    "    return outString\n",
    "name = ['eliael', 'elaiel', 'leielwiel', '45.2', 'wleile', 'esleiwl', '34.3']\n",
    "print(concatName(name, 3, 6))"
   ]
  },
  {
   "cell_type": "code",
   "execution_count": 141,
   "metadata": {},
   "outputs": [],
   "source": [
    "Categories = {}#Name as key, dummyCategory and price as a tuple\n",
    "for i, j in zip(InputData, dummyCategory):\n",
    "    dataSplit = i.split(' ')\n",
    "    if CheckIntNum(i)[0] >0:\n",
    "        valOne, valTwo = CheckIntNum(i)\n",
    "        start = 0\n",
    "        for th in range(valOne):\n",
    "            description = InputData[InputData.index(i) - 1]\n",
    "            if CheckIntNum(description)[0] >0:\n",
    "                description = 'Nil'\n",
    "            else:\n",
    "                pass\n",
    "            stop = valTwo[th]\n",
    "            Name = concatName(dataSplit, start, stop)\n",
    "            price = dataSplit[stop]\n",
    "            Categories[Name] = (j, price, description)\n",
    "            start = stop+1\n"
   ]
  },
  {
   "cell_type": "code",
   "execution_count": 147,
   "metadata": {},
   "outputs": [
    {
     "name": "stdout",
     "output_type": "stream",
     "text": [
      "        Categories                                               Name  \\\n",
      "0  “¥APPETIZERS S@  TN LOIS Cele COAL eS OR LU Six cheese sticks, ...   \n",
      "1  “¥APPETIZERS S@                       pico de gallo and olive oil    \n",
      "2  “¥APPETIZERS S@  Made right at your table..!! Mouthwatering fre...   \n",
      "3  “¥APPETIZERS S@          Queso Fundido with melted Mexican cheese    \n",
      "4  “¥APPETIZERS S@      Chorizo (Mexican sausage) with melted cheese    \n",
      "\n",
      "                                         Description price  \n",
      "0              __ © Ceviche Tropical _ Cheese Sticks  5.50  \n",
      "1                                                Nil  8.00  \n",
      "2  _Fresh Guacamole Grilled jumbo shrimp chopped ...  7.99  \n",
      "3       p rilled chicken chopped with onions covered  6.49  \n",
      "4                                                Nil  5.99  \n"
     ]
    }
   ],
   "source": [
    "import pandas as pd\n",
    "def FrameData(cate):\n",
    "    keys, Name, price, description = [], [], [],[]\n",
    "    for k in cate.keys():\n",
    "        keys.append(k)\n",
    "        Name.append(cate[k][0])\n",
    "        price.append(cate[k][1])\n",
    "        description.append(cate[k][2])\n",
    "        \n",
    "    DictFrame = {'Categories':Name, 'Name':keys, 'Description':description, 'price':price}\n",
    "    frame = pd.DataFrame(DictFrame)\n",
    "    return frame\n",
    "    \n",
    "frame = FrameData(Categories)\n",
    "print(frame.head())\n",
    "frame.to_csv('output.csv', index = False)\n"
   ]
  },
  {
   "cell_type": "code",
   "execution_count": null,
   "metadata": {},
   "outputs": [],
   "source": []
  },
  {
   "cell_type": "markdown",
   "metadata": {},
   "source": [
    "# Scrap web"
   ]
  },
  {
   "cell_type": "code",
   "execution_count": 187,
   "metadata": {},
   "outputs": [],
   "source": [
    "from bs4 import BeautifulSoup\n",
    "from urllib.request import urlopen\n",
    "\n",
    "url = 'https://www.just-eat.com/'\n",
    "page = urlopen(url)\n",
    "html = page.read().decode(\"utf-8\")\n",
    "soup = BeautifulSoup(html, \"html.parser\")\n"
   ]
  },
  {
   "cell_type": "code",
   "execution_count": null,
   "metadata": {},
   "outputs": [],
   "source": []
  },
  {
   "cell_type": "code",
   "execution_count": null,
   "metadata": {},
   "outputs": [],
   "source": []
  }
 ],
 "metadata": {
  "kernelspec": {
   "display_name": "Python 3",
   "language": "python",
   "name": "python3"
  },
  "language_info": {
   "codemirror_mode": {
    "name": "ipython",
    "version": 3
   },
   "file_extension": ".py",
   "mimetype": "text/x-python",
   "name": "python",
   "nbconvert_exporter": "python",
   "pygments_lexer": "ipython3",
   "version": "3.8.2"
  }
 },
 "nbformat": 4,
 "nbformat_minor": 4
}
