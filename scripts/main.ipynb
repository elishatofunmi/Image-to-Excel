{
 "cells": [
  {
   "cell_type": "code",
   "execution_count": 1,
   "metadata": {},
   "outputs": [],
   "source": [
    "import cv2\n",
    "import pytesseract\n",
    "import numpy as np\n",
    "import os, sys\n"
   ]
  },
  {
   "cell_type": "code",
   "execution_count": 2,
   "metadata": {},
   "outputs": [
    {
     "data": {
      "text/plain": [
       "'/home/odemakinde/Desktop/Image to Excel/Image-to-Excel/scripts'"
      ]
     },
     "execution_count": 2,
     "metadata": {},
     "output_type": "execute_result"
    }
   ],
   "source": [
    "os.getcwd()"
   ]
  },
  {
   "cell_type": "code",
   "execution_count": 3,
   "metadata": {},
   "outputs": [],
   "source": [
    "os.chdir('/home/odemakinde/Desktop/Image to Excel/Image-to-Excel/test images/')"
   ]
  },
  {
   "cell_type": "code",
   "execution_count": 34,
   "metadata": {},
   "outputs": [],
   "source": [
    "img = cv2.imread('menu2.jpg')\n",
    "gray = cv2.cvtColor(img, cv2.COLOR_RGB2GRAY)\n",
    "gray, img_bin = cv2.threshold(gray,128,255,cv2.THRESH_BINARY | cv2.THRESH_OTSU)\n",
    "gray = cv2.bitwise_not(img_bin)\n",
    "#cv2.imshow('image', gray)\n",
    "#cv2.waitKey(0)\n",
    "#cv2.destroyAllWindows()"
   ]
  },
  {
   "cell_type": "code",
   "execution_count": 35,
   "metadata": {},
   "outputs": [
    {
     "name": "stdout",
     "output_type": "stream",
     "text": [
      "OUTPUT:  \n",
      "\n",
      "*FRESH GUACAMOLE *CEVICHE TROPICAL\n",
      "\n",
      "“¥APPETIZERS S@\n",
      "\n",
      "__ © Ceviche Tropical _ Cheese Sticks\n",
      "TN LOIS Cele COAL eS OR LU Six cheese sticks, served with marinara dipping sauce 5.50\n",
      "pico de gallo and olive oil 8.00 fe Tree\n",
      "amarones Gratinados\n",
      "_Fresh Guacamole Grilled jumbo shrimp chopped with onions, covered\n",
      "Made right at your table..!! Mouthwatering fresh with melted Mexican cheese 7.99\n",
      "chunks of avocado, diced onions, tomatoes, cilantro ;\n",
      "Teo SOA ari Pollo Gratinado\n",
      "p rilled chicken chopped with onions covered\n",
      "Queso Fundido with melted Mexican cheese 6.49\n",
      "Chorizo (Mexican sausage) with melted cheese 5.99 NE P|\n",
      "itas de rollo\n",
      "Tossed Salad Seven chicken wings bone in, served with celery\n",
      "Lettuce, tomatoes, onions, bell pepper, cucumber, sticks and dipping sauce 6.99\n",
      "mushroom and cheese. Served with your choice of Flavors:\n",
      "dressing 3.75 Original, Teriyaki, BBO, Sweet & Sour, Mango Habanero\n",
      "\n",
      "NACHOS DIPS\n",
      "\n",
      "Cheese 3.99 Beef 5.00\n",
      "\n",
      "Cheese Nachos aaele Bean 4.25 Spinach 4.00\n",
      "Bean and Cheese 4.75\n",
      "Chicken and Cheese omelt S eo P S\n",
      "Beef and Cheese 5.50 U\n",
      "Beef, Bean and Cheese 5.85\n",
      "Chicken, Bean and Cheese 5.85 oa Soup 9.25\n",
      "ile caae sey 6.25\n",
      "Nachos BBQ Calle cia OCCU SIA Ke10/¢(c¢ Rene Col\n",
      "Grilled chicken, sautéed with our special BBQ sauce, rice, avocado and pico de gallo\n",
      "\n",
      "topped with onions and cilantro 8.99\n",
      "\n",
      "Nachos edu eae\n",
      "Beef, beans, lettuce, sour cream,\n",
      "tomatoes and cheese 7.75\n",
      "\n",
      "& San Jose Nachos\n",
      "A mix of chicken, chorizo and applewood bacon, topped\n",
      "with refried beans, pico de gallo, sour cream, and pickled\n",
      "jalapefios. 8.50\n",
      "\n",
      " \n",
      "\n",
      "*CHICKEN SOUP\n",
      "\n",
      "BOM Dr ee ROCCHI RC MCRL CCC em CSAC LCO ASS IMaSS RELC Sy\n",
      "Tee ACR aa em ec Ae CRC CC CMC a DCT Cm UT Ree)\n",
      "SCC ee Be CUM LEIGH CILMI UP MAL CUER OMT Mee TMU Cr| Coney\n",
      "that might cause an allergic reaction.\n",
      "\n",
      "VR RR RR RN\n",
      "\n",
      "  \n",
      "\f",
      "\n"
     ]
    }
   ],
   "source": [
    "kernel = np.ones((2, 1), np.uint8)\n",
    "img = cv2.erode(gray, kernel, iterations=1)\n",
    "img = cv2.dilate(img, kernel, iterations=1)\n",
    "out_below = pytesseract.image_to_string(img)\n",
    "print(\"OUTPUT:\", out_below)"
   ]
  },
  {
   "cell_type": "code",
   "execution_count": 13,
   "metadata": {},
   "outputs": [
    {
     "data": {
      "text/plain": [
       "str"
      ]
     },
     "execution_count": 13,
     "metadata": {},
     "output_type": "execute_result"
    }
   ],
   "source": [
    "type(out_below)"
   ]
  },
  {
   "cell_type": "markdown",
   "metadata": {},
   "source": [
    "# Scrap web"
   ]
  },
  {
   "cell_type": "code",
   "execution_count": 29,
   "metadata": {},
   "outputs": [],
   "source": [
    "from bs4 import BeautifulSoup\n",
    "from urllib.request import urlopen\n",
    "\n",
    "url = 'https://www.just-eat.com/'\n",
    "page = urlopen(url)\n",
    "html = page.read().decode(\"utf-8\")\n",
    "soup = BeautifulSoup(html, \"html.parser\")\n"
   ]
  },
  {
   "cell_type": "code",
   "execution_count": 30,
   "metadata": {},
   "outputs": [
    {
     "data": {
      "text/plain": [
       "['\\n\\n\\n\\n\\n\\n\\nJust',\n",
       " 'Eat',\n",
       " '-',\n",
       " 'Creating',\n",
       " 'the',\n",
       " \"world's\",\n",
       " 'greatest',\n",
       " 'food',\n",
       " 'community\\n\\n\\n\\n\\n\\n\\n\\n\\n\\n\\n\\n\\n\\n\\n\\n\\n\\n\\n\\n\\n\\n\\nWhat',\n",
       " 'can',\n",
       " 'we',\n",
       " 'help',\n",
       " 'you',\n",
       " 'with?\\nSelect',\n",
       " 'the',\n",
       " 'country',\n",
       " 'you’re',\n",
       " 'in',\n",
       " 'to',\n",
       " 'order',\n",
       " 'food',\n",
       " 'or',\n",
       " 'the',\n",
       " 'relevant',\n",
       " 'site',\n",
       " 'for',\n",
       " 'the',\n",
       " 'information',\n",
       " 'you',\n",
       " 'are',\n",
       " 'looking',\n",
       " 'for.\\r\\n',\n",
       " '\\n\\n\\nOrder',\n",
       " 'now\\n\\n\\nUK\\n\\n\\nAustralia\\n\\n\\nBrazil\\n\\n\\nCanada\\n\\n\\nDenmark\\n\\n\\nFrance\\n\\n\\nIreland\\n\\n\\nItaly\\n\\n\\nMexico\\n\\n\\nNorway\\n\\n\\nNew',\n",
       " 'Zealand\\n\\n\\nSpain\\n\\n\\nSwitzerland\\n\\n',\n",
       " '\\n\\n\\nJust',\n",
       " 'Eat',\n",
       " 'Limited\\n\\nAbout',\n",
       " 'us\\n\\nInvestorsNews',\n",
       " 'and',\n",
       " 'mediaResponsible',\n",
       " 'business\\n',\n",
       " '\\n\\nMore',\n",
       " 'Just',\n",
       " 'Eat',\n",
       " 'sites\\n\\n\\nPartners\\n\\n\\nCareers\\n\\n\\nTechnology',\n",
       " 'blog\\n\\n',\n",
       " '\\n\\n\\n\\n\\n\\n\\n\\n\\n\\n\\n\\n\\n\\n\\n\\n\\n\\n\\n\\n\\n\\n\\n\\n\\n\\n\\n\\n\\n\\n\\nGlobal',\n",
       " 'Head',\n",
       " 'Office\\n\\n\\n\\nFleet',\n",
       " 'Place',\n",
       " 'House2',\n",
       " 'Fleet',\n",
       " 'PlaceLondonEC4M',\n",
       " '7RFUnited',\n",
       " 'Kingdom\\r\\nContact',\n",
       " 'us',\n",
       " '\\n\\nCompany',\n",
       " 'number:',\n",
       " '06947854',\n",
       " '\\n\\n\\n\\n\\nMore',\n",
       " 'Just',\n",
       " 'Eat',\n",
       " 'Sites\\n\\n\\n\\n\\nOrder',\n",
       " 'now\\nRestaurants',\n",
       " 'sign',\n",
       " 'upCareers\\nGraduate',\n",
       " 'careers\\n\\n',\n",
       " '\\n\\n\\n\\n\\nA',\n",
       " 'bit',\n",
       " 'more',\n",
       " 'about',\n",
       " 'us\\n\\n\\n\\n\\nWhistleblowing',\n",
       " 'policy\\nTax',\n",
       " 'Strategy\\nModern',\n",
       " 'Slavery',\n",
       " 'statement\\nGender',\n",
       " 'Pay',\n",
       " 'Gap\\nAccessibility\\nPrivacy',\n",
       " 'policy\\nCookie',\n",
       " 'policy\\nTerms',\n",
       " 'of',\n",
       " 'use\\nSitemap\\n',\n",
       " '\\n\\n\\n\\n\\n\\xa0\\n\\n\\n\\n',\n",
       " '',\n",
       " '',\n",
       " '',\n",
       " '',\n",
       " '',\n",
       " '',\n",
       " '',\n",
       " '',\n",
       " '',\n",
       " '',\n",
       " '',\n",
       " '',\n",
       " '',\n",
       " '',\n",
       " '',\n",
       " '',\n",
       " '',\n",
       " '',\n",
       " '',\n",
       " '',\n",
       " '',\n",
       " '',\n",
       " '',\n",
       " '©',\n",
       " '2020',\n",
       " 'Just',\n",
       " 'Eat',\n",
       " 'Limited.\\n',\n",
       " '',\n",
       " '',\n",
       " '',\n",
       " '',\n",
       " '',\n",
       " '',\n",
       " '',\n",
       " '',\n",
       " '',\n",
       " '',\n",
       " '',\n",
       " '',\n",
       " '',\n",
       " '',\n",
       " '',\n",
       " '',\n",
       " '',\n",
       " '',\n",
       " '',\n",
       " '',\n",
       " '',\n",
       " '',\n",
       " '',\n",
       " 'All',\n",
       " 'Rights',\n",
       " 'Reserved\\n',\n",
       " '',\n",
       " '',\n",
       " '',\n",
       " '',\n",
       " '',\n",
       " '',\n",
       " '',\n",
       " '',\n",
       " '',\n",
       " '',\n",
       " '',\n",
       " '',\n",
       " '',\n",
       " '',\n",
       " '',\n",
       " '',\n",
       " '',\n",
       " '',\n",
       " '',\n",
       " '\\n\\n\\n\\n\\n\\n\\n\\n\\n\\n\\n\\n\\n\\n\\n\\n\\n\\n\\n\\n\\n\\n\\n\\n\\n\\n\\n\\n\\n']"
      ]
     },
     "execution_count": 30,
     "metadata": {},
     "output_type": "execute_result"
    }
   ],
   "source": [
    "text = soup.get_text()\n",
    "text.split(' ')"
   ]
  },
  {
   "cell_type": "code",
   "execution_count": null,
   "metadata": {},
   "outputs": [],
   "source": []
  },
  {
   "cell_type": "code",
   "execution_count": null,
   "metadata": {},
   "outputs": [],
   "source": []
  },
  {
   "cell_type": "code",
   "execution_count": null,
   "metadata": {},
   "outputs": [],
   "source": []
  }
 ],
 "metadata": {
  "kernelspec": {
   "display_name": "Python 3",
   "language": "python",
   "name": "python3"
  },
  "language_info": {
   "codemirror_mode": {
    "name": "ipython",
    "version": 3
   },
   "file_extension": ".py",
   "mimetype": "text/x-python",
   "name": "python",
   "nbconvert_exporter": "python",
   "pygments_lexer": "ipython3",
   "version": "3.8.2"
  }
 },
 "nbformat": 4,
 "nbformat_minor": 4
}
