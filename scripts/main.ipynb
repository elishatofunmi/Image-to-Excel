{
 "cells": [
  {
   "cell_type": "code",
   "execution_count": 1,
   "metadata": {},
   "outputs": [],
   "source": [
    "import cv2\n",
    "import pytesseract\n",
    "import numpy as np\n",
    "import os, sys\n"
   ]
  },
  {
   "cell_type": "code",
   "execution_count": 2,
   "metadata": {},
   "outputs": [
    {
     "data": {
      "text/plain": [
       "'/home/odemakinde/Desktop/Image to Excel/Image-to-Excel/scripts'"
      ]
     },
     "execution_count": 2,
     "metadata": {},
     "output_type": "execute_result"
    }
   ],
   "source": [
    "os.getcwd()"
   ]
  },
  {
   "cell_type": "code",
   "execution_count": 3,
   "metadata": {},
   "outputs": [],
   "source": [
    "os.chdir('/home/odemakinde/Desktop/Image to Excel/Image-to-Excel/test images/')"
   ]
  },
  {
   "cell_type": "code",
   "execution_count": 32,
   "metadata": {},
   "outputs": [],
   "source": [
    "img = cv2.imread('menu.jpg')\n",
    "gray = cv2.cvtColor(img, cv2.COLOR_RGB2GRAY)\n",
    "gray, img_bin = cv2.threshold(gray,128,255,cv2.THRESH_BINARY | cv2.THRESH_OTSU)\n",
    "gray = cv2.bitwise_not(img_bin)\n",
    "cv2.imshow('image', gray)\n",
    "#cv2.waitKey(0)\n",
    "#cv2.destroyAllWindows()"
   ]
  },
  {
   "cell_type": "code",
   "execution_count": 33,
   "metadata": {},
   "outputs": [
    {
     "name": "stdout",
     "output_type": "stream",
     "text": [
      "OUTPUT:   \n",
      " \n",
      "\n",
      "0 eu\n",
      "\n",
      "mitten\n",
      "Chicken / Dolle\n",
      "\n",
      "8- WHOLE ROTISSERIE CHICKEN / Pollo a la Brasa (Entero)\n",
      "me Prasat slate eto eee Rome)\n",
      "alee ead Pease cues eRe Om ane mmI CCE med\n",
      "BANDEJA de POLLO, 1/4 de Pollo, Ensalada, Consomé, Papas Fritas y Arroz\n",
      "11- MIXED CHICKEN with RICE / Salad and Sweet Plantains\n",
      "ARROZ con POLLO, Ensalada y Maduro\n",
      "Ae a ta el) ie aes)\n",
      "CONSOME de MENUDENCIAS, Arroz y Ensalada\n",
      "were Ns d fo) TAM et eo ec Ry\n",
      "ee eRe ee we era eo SnICT Se RM Cle ce)\n",
      "eee) [ante ea pate) Be ee etme ce ere |\n",
      "PECHUGA de POLLO al LIMON, Arroz, Papas Fritas y Ensalada\n",
      "eboSe=o0) [estore ie (ere enna ones cl\n",
      "PERNIL de POLLO, Amoz, Papas Fritas y Ensalada\n",
      "SCS Te edie bE te ec eC}\n",
      "PECHUGA de POLLO EMPANIZADO, Arroz, Frijoles, Ensalada y Maduro\n",
      "17- BONELESS CHICKEN BREAST in MUSHROOM SAUCE / Rice, Salad & French Fries\n",
      "Poteet Wola ce) Ree ey Ry Caran ce Artoz, Ensalada y Papas Fritas\n",
      "SES OC Bia e-em acm\n",
      "PECHUGA HAWAIANA, Arroz Blanco y Papas Fritas\n",
      "MR aR Aa ae ei ge Pee ene Um UM Rea eee]\n",
      "\n",
      "FILETE de PECHUGA APANADA dei CHEF, Pechuga Apanada de Pollo rellena,\n",
      "de Jamén y Queso Mozzarella\n",
      "\n",
      "  \n",
      "\f",
      "\n"
     ]
    }
   ],
   "source": [
    "kernel = np.ones((2, 1), np.uint8)\n",
    "img = cv2.erode(gray, kernel, iterations=1)\n",
    "img = cv2.dilate(img, kernel, iterations=1)\n",
    "out_below = pytesseract.image_to_string(img)\n",
    "print(\"OUTPUT:\", out_below)"
   ]
  },
  {
   "cell_type": "code",
   "execution_count": 13,
   "metadata": {},
   "outputs": [
    {
     "data": {
      "text/plain": [
       "str"
      ]
     },
     "execution_count": 13,
     "metadata": {},
     "output_type": "execute_result"
    }
   ],
   "source": [
    "type(out_below)"
   ]
  },
  {
   "cell_type": "markdown",
   "metadata": {},
   "source": [
    "# Scrap web"
   ]
  },
  {
   "cell_type": "code",
   "execution_count": 29,
   "metadata": {},
   "outputs": [],
   "source": [
    "from bs4 import BeautifulSoup\n",
    "from urllib.request import urlopen\n",
    "\n",
    "url = 'https://www.just-eat.com/'\n",
    "page = urlopen(url)\n",
    "html = page.read().decode(\"utf-8\")\n",
    "soup = BeautifulSoup(html, \"html.parser\")\n"
   ]
  },
  {
   "cell_type": "code",
   "execution_count": 30,
   "metadata": {},
   "outputs": [
    {
     "data": {
      "text/plain": [
       "['\\n\\n\\n\\n\\n\\n\\nJust',\n",
       " 'Eat',\n",
       " '-',\n",
       " 'Creating',\n",
       " 'the',\n",
       " \"world's\",\n",
       " 'greatest',\n",
       " 'food',\n",
       " 'community\\n\\n\\n\\n\\n\\n\\n\\n\\n\\n\\n\\n\\n\\n\\n\\n\\n\\n\\n\\n\\n\\n\\nWhat',\n",
       " 'can',\n",
       " 'we',\n",
       " 'help',\n",
       " 'you',\n",
       " 'with?\\nSelect',\n",
       " 'the',\n",
       " 'country',\n",
       " 'you’re',\n",
       " 'in',\n",
       " 'to',\n",
       " 'order',\n",
       " 'food',\n",
       " 'or',\n",
       " 'the',\n",
       " 'relevant',\n",
       " 'site',\n",
       " 'for',\n",
       " 'the',\n",
       " 'information',\n",
       " 'you',\n",
       " 'are',\n",
       " 'looking',\n",
       " 'for.\\r\\n',\n",
       " '\\n\\n\\nOrder',\n",
       " 'now\\n\\n\\nUK\\n\\n\\nAustralia\\n\\n\\nBrazil\\n\\n\\nCanada\\n\\n\\nDenmark\\n\\n\\nFrance\\n\\n\\nIreland\\n\\n\\nItaly\\n\\n\\nMexico\\n\\n\\nNorway\\n\\n\\nNew',\n",
       " 'Zealand\\n\\n\\nSpain\\n\\n\\nSwitzerland\\n\\n',\n",
       " '\\n\\n\\nJust',\n",
       " 'Eat',\n",
       " 'Limited\\n\\nAbout',\n",
       " 'us\\n\\nInvestorsNews',\n",
       " 'and',\n",
       " 'mediaResponsible',\n",
       " 'business\\n',\n",
       " '\\n\\nMore',\n",
       " 'Just',\n",
       " 'Eat',\n",
       " 'sites\\n\\n\\nPartners\\n\\n\\nCareers\\n\\n\\nTechnology',\n",
       " 'blog\\n\\n',\n",
       " '\\n\\n\\n\\n\\n\\n\\n\\n\\n\\n\\n\\n\\n\\n\\n\\n\\n\\n\\n\\n\\n\\n\\n\\n\\n\\n\\n\\n\\n\\n\\nGlobal',\n",
       " 'Head',\n",
       " 'Office\\n\\n\\n\\nFleet',\n",
       " 'Place',\n",
       " 'House2',\n",
       " 'Fleet',\n",
       " 'PlaceLondonEC4M',\n",
       " '7RFUnited',\n",
       " 'Kingdom\\r\\nContact',\n",
       " 'us',\n",
       " '\\n\\nCompany',\n",
       " 'number:',\n",
       " '06947854',\n",
       " '\\n\\n\\n\\n\\nMore',\n",
       " 'Just',\n",
       " 'Eat',\n",
       " 'Sites\\n\\n\\n\\n\\nOrder',\n",
       " 'now\\nRestaurants',\n",
       " 'sign',\n",
       " 'upCareers\\nGraduate',\n",
       " 'careers\\n\\n',\n",
       " '\\n\\n\\n\\n\\nA',\n",
       " 'bit',\n",
       " 'more',\n",
       " 'about',\n",
       " 'us\\n\\n\\n\\n\\nWhistleblowing',\n",
       " 'policy\\nTax',\n",
       " 'Strategy\\nModern',\n",
       " 'Slavery',\n",
       " 'statement\\nGender',\n",
       " 'Pay',\n",
       " 'Gap\\nAccessibility\\nPrivacy',\n",
       " 'policy\\nCookie',\n",
       " 'policy\\nTerms',\n",
       " 'of',\n",
       " 'use\\nSitemap\\n',\n",
       " '\\n\\n\\n\\n\\n\\xa0\\n\\n\\n\\n',\n",
       " '',\n",
       " '',\n",
       " '',\n",
       " '',\n",
       " '',\n",
       " '',\n",
       " '',\n",
       " '',\n",
       " '',\n",
       " '',\n",
       " '',\n",
       " '',\n",
       " '',\n",
       " '',\n",
       " '',\n",
       " '',\n",
       " '',\n",
       " '',\n",
       " '',\n",
       " '',\n",
       " '',\n",
       " '',\n",
       " '',\n",
       " '©',\n",
       " '2020',\n",
       " 'Just',\n",
       " 'Eat',\n",
       " 'Limited.\\n',\n",
       " '',\n",
       " '',\n",
       " '',\n",
       " '',\n",
       " '',\n",
       " '',\n",
       " '',\n",
       " '',\n",
       " '',\n",
       " '',\n",
       " '',\n",
       " '',\n",
       " '',\n",
       " '',\n",
       " '',\n",
       " '',\n",
       " '',\n",
       " '',\n",
       " '',\n",
       " '',\n",
       " '',\n",
       " '',\n",
       " '',\n",
       " 'All',\n",
       " 'Rights',\n",
       " 'Reserved\\n',\n",
       " '',\n",
       " '',\n",
       " '',\n",
       " '',\n",
       " '',\n",
       " '',\n",
       " '',\n",
       " '',\n",
       " '',\n",
       " '',\n",
       " '',\n",
       " '',\n",
       " '',\n",
       " '',\n",
       " '',\n",
       " '',\n",
       " '',\n",
       " '',\n",
       " '',\n",
       " '\\n\\n\\n\\n\\n\\n\\n\\n\\n\\n\\n\\n\\n\\n\\n\\n\\n\\n\\n\\n\\n\\n\\n\\n\\n\\n\\n\\n\\n']"
      ]
     },
     "execution_count": 30,
     "metadata": {},
     "output_type": "execute_result"
    }
   ],
   "source": [
    "text = soup.get_text()\n",
    "text.split(' ')"
   ]
  },
  {
   "cell_type": "code",
   "execution_count": null,
   "metadata": {},
   "outputs": [],
   "source": []
  },
  {
   "cell_type": "code",
   "execution_count": null,
   "metadata": {},
   "outputs": [],
   "source": []
  },
  {
   "cell_type": "code",
   "execution_count": null,
   "metadata": {},
   "outputs": [],
   "source": []
  }
 ],
 "metadata": {
  "kernelspec": {
   "display_name": "Python 3",
   "language": "python",
   "name": "python3"
  },
  "language_info": {
   "codemirror_mode": {
    "name": "ipython",
    "version": 3
   },
   "file_extension": ".py",
   "mimetype": "text/x-python",
   "name": "python",
   "nbconvert_exporter": "python",
   "pygments_lexer": "ipython3",
   "version": "3.8.2"
  }
 },
 "nbformat": 4,
 "nbformat_minor": 4
}
